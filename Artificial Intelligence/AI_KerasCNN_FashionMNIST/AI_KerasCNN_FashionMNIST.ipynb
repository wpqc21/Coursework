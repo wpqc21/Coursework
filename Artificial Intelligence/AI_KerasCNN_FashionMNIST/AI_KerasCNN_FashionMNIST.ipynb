{
 "cells": [
  {
   "cell_type": "markdown",
   "metadata": {},
   "source": [
    "# Keras Convolutional Neural Network"
   ]
  },
  {
   "cell_type": "markdown",
   "metadata": {},
   "source": [
    "#### *fashion_mnist* dataset"
   ]
  },
  {
   "cell_type": "markdown",
   "metadata": {},
   "source": [
    "For this homework assignment, you are asked to build a neural network classifier on the FasionMNIST dataset. The FashionMNIST dataset has a lot in common with the MNIST dataset:\n",
    "- The dataset contains 70,000 grayscale images, split into training set (60,000 images) and test set (10,000 images).\n",
    "- The resolution of images is 28 by 28 pixels.\n",
    "- There are a total of 10 target labels.\n",
    "\n",
    "<img src=\"https://tensorflow.org/images/fashion-mnist-sprite.png\" width=\"600\">"
   ]
  },
  {
   "cell_type": "code",
   "execution_count": 1,
   "metadata": {},
   "outputs": [
    {
     "name": "stdout",
     "output_type": "stream",
     "text": [
      "Version:  2.3.0\n"
     ]
    }
   ],
   "source": [
    "import numpy as np\n",
    "import tensorflow as tf\n",
    "print(\"Version: \", tf.__version__)"
   ]
  },
  {
   "cell_type": "code",
   "execution_count": 2,
   "metadata": {},
   "outputs": [],
   "source": [
    "# Import the dataset\n",
    "fashion_mnist = tf.keras.datasets.fashion_mnist\n",
    "\n",
    "(train_images, train_labels), (test_images, test_labels) = fashion_mnist.load_data()"
   ]
  },
  {
   "cell_type": "code",
   "execution_count": 3,
   "metadata": {},
   "outputs": [],
   "source": [
    "# Here are the list of class names\n",
    "class_names = ['T-shirt/top', 'Trouser', 'Pullover', 'Dress', 'Coat',\n",
    "               'Sandal', 'Shirt', 'Sneaker', 'Bag', 'Ankle boot']"
   ]
  },
  {
   "cell_type": "markdown",
   "metadata": {},
   "source": [
    "Please complete the following tasks:\n",
    "1. Scale the values to [0, 1] by dividing every value by 255.0.\n",
    "2. Use `plt.imshow()` to display the first image from the training set.\n",
    "3. Build a neural network with three layers:\n",
    "    - The first layer is a flatten layer of size 28 * 28.\n",
    "    - The second layer is a dense layer with 128 nodes, with ReLU as activation function.\n",
    "    - The last layer is a dense layer with 10 nodes without activation.\n",
    "4. Compile the model, using `adam` as optimizer and `tf.keras.losses.SparseCategoricalCrossentropy(from_logits=True)` as loss function. Use `accuracy` as performance metrics.\n",
    "5. Train the model using `train_images` and `train_labels` for 10 epochs.\n",
    "6. Evaluate the accuracy on the test set.\n",
    "7. Compute the confusion matrix over test set. Which type of prediction mistake occurs most frequently?"
   ]
  },
  {
   "cell_type": "code",
   "execution_count": 4,
   "metadata": {},
   "outputs": [],
   "source": [
    "# 1."
   ]
  },
  {
   "cell_type": "code",
   "execution_count": 5,
   "metadata": {},
   "outputs": [
    {
     "name": "stdout",
     "output_type": "stream",
     "text": [
      "(60000, 28, 28) (10000, 28, 28)\n"
     ]
    }
   ],
   "source": [
    "train_images, test_images = train_images / 255.0, test_images / 255.0\n",
    "\n",
    "\n",
    "print(train_images.shape, test_images.shape)"
   ]
  },
  {
   "cell_type": "code",
   "execution_count": 6,
   "metadata": {},
   "outputs": [],
   "source": [
    "# 2."
   ]
  },
  {
   "cell_type": "code",
   "execution_count": 7,
   "metadata": {},
   "outputs": [
    {
     "data": {
      "text/plain": [
       "<matplotlib.image.AxesImage at 0x24315c1e2b0>"
      ]
     },
     "execution_count": 7,
     "metadata": {},
     "output_type": "execute_result"
    },
    {
     "data": {
      "image/png": "[encoded data removed]",
      "text/plain": [
       "<Figure size 432x288 with 1 Axes>"
      ]
     },
     "metadata": {
      "needs_background": "light"
     },
     "output_type": "display_data"
    }
   ],
   "source": [
    "import matplotlib.pyplot as plt\n",
    "%matplotlib inline\n",
    "\n",
    "plt.imshow(train_images[0], cmap='gray')"
   ]
  },
  {
   "cell_type": "code",
   "execution_count": 8,
   "metadata": {},
   "outputs": [],
   "source": [
    "# 3."
   ]
  },
  {
   "cell_type": "code",
   "execution_count": 9,
   "metadata": {},
   "outputs": [],
   "source": [
    "# Build CNN model\n",
    "model = tf.keras.models.Sequential()\n",
    "\n",
    "model.add(tf.keras.layers.Flatten(input_shape=(28, 28, 1)))\n",
    "\n",
    "model.add(tf.keras.layers.Dense(units=128,\n",
    "                       activation='relu'))\n",
    "\n",
    "model.add(tf.keras.layers.Dense(units=10,\n",
    "                       activation=None))"
   ]
  },
  {
   "cell_type": "code",
   "execution_count": 10,
   "metadata": {},
   "outputs": [],
   "source": [
    "# 4."
   ]
  },
  {
   "cell_type": "code",
   "execution_count": 11,
   "metadata": {},
   "outputs": [],
   "source": [
    "model.compile(loss=tf.keras.losses.SparseCategoricalCrossentropy(from_logits=True),\n",
    "              optimizer=tf.keras.optimizers.Adam(),\n",
    "              metrics=['accuracy'])"
   ]
  },
  {
   "cell_type": "code",
   "execution_count": 12,
   "metadata": {},
   "outputs": [],
   "source": [
    "# 5."
   ]
  },
  {
   "cell_type": "code",
   "execution_count": 13,
   "metadata": {},
   "outputs": [
    {
     "name": "stdout",
     "output_type": "stream",
     "text": [
      "Epoch 1/10\n",
      "1875/1875 [==============================] - 4s 2ms/step - loss: 0.5007 - accuracy: 0.8257: 0s - loss:\n",
      "Epoch 2/10\n",
      "1875/1875 [==============================] - 4s 2ms/step - loss: 0.3788 - accuracy: 0.8644\n",
      "Epoch 3/10\n",
      "1875/1875 [==============================] - 4s 2ms/step - loss: 0.3380 - accuracy: 0.8786\n",
      "Epoch 4/10\n",
      "1875/1875 [==============================] - 4s 2ms/step - loss: 0.3177 - accuracy: 0.8841\n",
      "Epoch 5/10\n",
      "1875/1875 [==============================] - 4s 2ms/step - loss: 0.2962 - accuracy: 0.8920\n",
      "Epoch 6/10\n",
      "1875/1875 [==============================] - 4s 2ms/step - loss: 0.2822 - accuracy: 0.8958\n",
      "Epoch 7/10\n",
      "1875/1875 [==============================] - 4s 2ms/step - loss: 0.2692 - accuracy: 0.9006\n",
      "Epoch 8/10\n",
      "1875/1875 [==============================] - 4s 2ms/step - loss: 0.2586 - accuracy: 0.9042\n",
      "Epoch 9/10\n",
      "1875/1875 [==============================] - 3s 2ms/step - loss: 0.2474 - accuracy: 0.9065\n",
      "Epoch 10/10\n",
      "1875/1875 [==============================] - 4s 2ms/step - loss: 0.2393 - accuracy: 0.9115\n"
     ]
    }
   ],
   "source": [
    "history =  model.fit(train_images, train_labels, epochs=10)"
   ]
  },
  {
   "cell_type": "code",
   "execution_count": 14,
   "metadata": {},
   "outputs": [],
   "source": [
    "# 6."
   ]
  },
  {
   "cell_type": "code",
   "execution_count": 15,
   "metadata": {},
   "outputs": [
    {
     "data": {
      "text/plain": [
       "<matplotlib.legend.Legend at 0x243163eb820>"
      ]
     },
     "execution_count": 15,
     "metadata": {},
     "output_type": "execute_result"
    },
    {
     "data": {
      "image/png": "[encoded data removed]",
      "text/plain": [
       "<Figure size 432x288 with 1 Axes>"
      ]
     },
     "metadata": {
      "needs_background": "light"
     },
     "output_type": "display_data"
    }
   ],
   "source": [
    "# Evaluate the model\n",
    "plt.plot(history.history['accuracy'], label='accuracy')\n",
    "plt.xlabel('Epoch')\n",
    "plt.ylabel('Accuracy')\n",
    "plt.ylim([0.5, 1])\n",
    "plt.legend(loc='lower right')"
   ]
  },
  {
   "cell_type": "code",
   "execution_count": 16,
   "metadata": {},
   "outputs": [],
   "source": [
    "# 7."
   ]
  },
  {
   "cell_type": "code",
   "execution_count": 17,
   "metadata": {},
   "outputs": [],
   "source": [
    "from sklearn.metrics import confusion_matrix"
   ]
  },
  {
   "cell_type": "code",
   "execution_count": 18,
   "metadata": {},
   "outputs": [
    {
     "name": "stdout",
     "output_type": "stream",
     "text": [
      "[9, 2, 1, 1, 6, 1, 4, 6, 5, 7, 4, 5, 7, 3, 4, 1, 2, 2, 8, 0, 2, 5, 7, 5, 1, 2, 6, 0, 9, 4, 8, 8, 3, 3, 8, 0, 7, 5, 7, 9, 0, 1, 6, 7, 6, 7, 2, 1, 2, 6, 4, 2, 5, 8, 2, 2, 8, 4, 8, 0, 7, 7, 8, 5, 1, 1, 2, 4, 7, 8, 7, 0, 2, 6, 2, 3, 1, 2, 8, 4, 1, 8, 5, 9, 5, 0, 3, 2, 0, 2, 5, 3, 6, 7, 1, 8, 0, 1, 4, 2, 3, 6, 7, 6, 7, 8, 5, 7, 9, 4, 2, 5, 7, 0, 5, 2, 8, 6, 7, 8, 0, 0, 9, 9, 3, 0, 8, 2, 1, 5, 4, 1, 9, 1, 8, 4, 6, 1, 2, 5, 1, 3, 0, 0, 1, 6, 1, 3, 2, 2, 3, 6, 1, 3, 5, 0, 4, 7, 9, 3, 7, 2, 3, 9, 0, 9, 2, 7, 4, 2, 0, 5, 6, 1, 2, 1, 3, 0, 9, 1, 0, 9, 3, 6, 7, 9, 9, 4, 4, 7, 1, 2, 3, 6, 3, 2, 8, 3, 6, 1, 1, 0, 2, 9, 2, 4, 0, 7, 9, 8, 4, 1, 8, 4, 1, 3, 1, 6, 7, 2, 8, 5, 2, 0, 7, 7, 6, 6, 7, 6, 7, 8, 9, 2, 9, 0, 5, 1, 4, 2, 5, 2, 9, 2, 2, 8, 6, 2, 2, 2, 9, 7, 6, 5, 5, 2, 8, 5, 2, 3, 0, 4, 8, 0, 0, 6, 3, 8, 9, 6, 1, 3, 0, 2, 3, 0, 8, 3, 7, 4, 0, 1, 2, 4, 0, 6, 6, 7, 5, 4, 5, 9, 5, 6, 5, 5, 1, 9, 8, 8, 3, 3, 6, 8, 0, 0, 2, 9, 7, 7, 1, 3, 6, 6, 6, 4, 7, 1, 6, 4, 8, 2, 6, 5, 6, 2, 7, 7, 7, 3, 3, 7, 0, 7, 1, 3, 7, 2, 2, 3, 4, 0, 3, 1, 0, 1, 9, 4, 9, 9, 1, 7, 8, 3, 3, 0, 2, 4, 8, 6, 1, 6, 2, 4, 4, 7, 3, 2, 2, 5, 0, 7, 9, 4, 0, 9, 3, 9, 3, 2, 5, 6, 0, 3, 5, 8, 1, 6, 2, 6, 6, 4, 7, 5, 4, 0, 6, 6, 1, 2, 0, 9, 7, 0, 4, 4, 2, 6, 2, 3, 0, 6, 7, 6, 9, 4, 2, 1, 5, 4, 5, 3, 8, 5, 8, 4, 4, 8, 9, 8, 6, 2, 4, 4, 2, 4, 1, 6, 1, 3, 0, 7, 8, 8, 4, 5, 3, 1, 9, 5, 3, 3, 6, 1, 2, 2, 9, 4, 0, 6, 0, 4, 2, 0, 0, 3, 3, 8, 2, 8, 9, 4, 0, 7, 0, 4, 6, 9, 2, 9, 5, 9, 3, 7, 5, 7, 8, 1, 0, 0, 3, 6, 8, 9, 7, 9, 1, 2, 7, 0, 2, 0, 5, 7, 1, 8, 2, 2, 2, 2, 4, 4, 6, 1, 9, 8, 5, 1, 9, 1, 2, 8, 3, 8, 9, 2, 2, 2, 8, 0, 2, 0, 5, 8, 8, 5, 3, 9, 4, 3, 4, 4, 5, 1, 0, 1, 2, 0, 4, 9, 6, 1, 5, 1, 1, 1, 9, 3, 4, 5, 3, 6, 2, 0, 4, 0, 0, 5, 8, 3, 3, 4, 6, 7, 7, 8, 9, 3, 3, 8, 7, 6, 7, 9, 3, 4, 0, 6, 5, 0, 1, 1, 5, 9, 4, 2, 5, 7, 8, 1, 6, 9, 7, 7, 1, 0, 9, 3, 2, 9, 0, 7, 6, 8, 2, 7, 3, 2, 3, 8, 2, 2, 6, 9, 3, 0, 7, 8, 6, 2, 9, 4, 6, 6, 2, 2, 0, 4, 4, 2, 7, 5, 8, 4, 9, 1, 0, 5, 4, 4, 4, 0, 0, 4, 5, 6, 0, 4, 5, 4, 1, 3, 1, 3, 6, 4, 3, 8, 2, 0, 6, 7, 0, 4, 0, 8, 5, 0, 8, 2, 9, 0, 8, 9, 6, 4, 2, 9, 6, 2, 5, 0, 9, 5, 3, 6, 6, 8, 3, 3, 8, 3, 4, 0, 9, 7, 9, 4, 8, 9, 1, 3, 7, 3, 0, 2, 6, 7, 1, 0, 0, 8, 7, 2, 6, 4, 6, 4, 1, 5, 9, 0, 0, 1, 6, 5, 0, 0, 3, 3, 3, 8, 1, 1, 8, 5, 7, 7, 8, 7, 2, 0, 7, 3, 8, 0, 9, 7, 6, 1, 6, 2, 4, 8, 0, 6, 3, 6, 8, 4, 0, 8, 9, 2, 4, 5, 9, 1, 4, 4, 9, 2, 1, 7, 9, 5, 8, 3, 7, 7, 1, 1, 1, 6, 9, 5, 3, 8, 4, 2, 9, 2, 8, 3, 2, 4, 4, 7, 1, 4, 9, 3, 5, 8, 5, 4, 7, 2, 8, 5, 9, 3, 3, 6, 7, 1, 7, 3, 5, 4, 6, 5, 8, 3, 7, 1, 2, 6, 1, 9, 8, 2, 7, 1, 3, 7, 5, 9, 9, 1, 8, 4, 7, 7, 1, 9, 8, 1, 3, 0, 6, 1, 7, 1, 1, 5, 7, 1, 5, 2, 2, 3, 3, 1, 1, 4, 9, 4, 3, 7, 7, 6, 8, 9, 9, 6, 1, 3, 4, 0, 3, 5, 9, 2, 0, 5, 5, 1, 5, 7, 8, 7, 7, 3, 6, 6, 0, 4, 0, 6, 0, 2, 5, 5, 1, 2, 0, 9, 3, 7, 6, 4, 8, 3, 4, 7, 6, 7, 4, 8, 8, 3, 4, 4, 3, 6, 9, 6, 6, 4, 9, 1, 8, 1, 7, 5, 5, 6, 0, 2, 1, 0, 5, 4, 0, 0, 6, 7, 5, 0, 2, 5, 9, 6, 8, 6, 0, 4, 6, 2, 9, 6, 7, 7, 1, 4, 4, 0, 5, 0, 9, 9, 8, 8, 3, 6, 2, 4, 6, 6, 3, 2, 3, 5, 2, 9, 3, 4, 7, 7, 0, 3, 5, 5, 6, 4, 5, 9, 6, 3, 7, 5, 1, 9, 8, 8, 9, 9, 2, 7, 2, 2, 3, 8, 7, 4, 6, 5, 4, 3, 6, 1, 4, 9, 3, 1, 6, 5, 0, 5, 7, 5, 2, 3, 3, 9, 6, 3, 6, 0, 4, 7, 0, 2, 9, 2, 6, 3, 4, 7, 0, 2, 1, 1, 4, 6, 6, 5, 9, 0, 1, 6, 5, 1, 4, 4, 8, 4, 7, 7, 3, 8, 3, 1, 9, 8, 1, 3, 3, 7, 5, 1, 5, 7, 8, 9, 6, 3, 5, 8, 4, 6, 3, 8, 6, 5, 5, 6, 7, 1, 5, 3, 5, 4, 8, 6, 6, 1, 1, 7, 9, 6, 2, 7, 0, 4, 8, 2, 2, 0, 6, 4, 4, 9, 6, 8, 4, 5, 9, 6, 3, 9, 4, 9, 8, 7, 4, 2, 2, 5, 3, 7, 6, 7, 2, 9, 3, 7, 6, 9, 3, 8, 4, 4, 7, 2, 4, 6, 2, 0, 7, 8, 4, 2, 4, 5, 5, 6, 4, 5, 5, 8, 1, 1, 7, 4, 6, 9, 6, 8, 7, 2, 2, 1, 2, 7, 7, 6, 9, 8, 5, 1, 1, 0, 6, 0, 9, 0, 1, 9, 0, 5, 5, 2, 0, 7, 0, 2, 3, 1, 3, 1, 3, 6, 7, 2, 4, 9, 5, 2, 9, 6, 3, 4, 4, 6, 6, 5, 2, 2, 5, 6, 1, 4, 2, 5, 4, 4, 8, 0, 2, 4, 0, 6, 3, 6, 8, 3, 8, 2, 0, 4, 4, 8, 8, 4, 7, 2, 2, 3, 0, 1, 9, 0, 9, 1, 9, 6, 5, 2, 4, 7, 3, 8, 7, 0, 8, 0, 7, 5, 5, 9, 5, 0, 0, 0, 3, 2, 4, 4, 5, 7, 1, 3, 4, 6, 6, 5, 1, 6, 7, 3, 4, 8, 8, 4, 8, 9, 4, 1, 6, 5, 2, 7, 8, 5, 6, 8, 5, 2, 2, 8, 9, 8, 4, 4, 3, 8, 8, 3, 0, 9, 2, 2, 8, 1, 3, 6, 1, 9, 2, 1, 6, 2, 7, 9, 2, 6, 3, 4, 4, 2, 4, 5, 0, 2, 8, 3, 7, 6, 4, 0, 0, 5, 4, 8, 2, 4, 3, 0, 2, 1, 7, 7, 5, 4, 7, 2, 6, 7, 3, 3, 1, 3, 3, 6, 0, 1, 7, 2, 4, 7, 1, 0, 6, 5, 8, 4, 6, 7, 9, 5, 0, 7, 9, 5, 1, 2, 9, 5, 5, 3, 9, 9, 1, 6, 7, 8, 0, 1, 7, 2, 7, 1, 1, 5, 5, 6, 4, 5, 9, 5, 5, 2, 3, 9, 3, 8, 5, 4, 6, 0, 0, 5, 7, 2, 5, 2, 0, 4, 4, 7, 6, 0, 5, 1, 7, 2, 3, 6, 8, 7, 8, 7, 1, 2, 3, 2, 9, 7, 5, 6, 1, 0, 7, 1, 2, 6, 9, 3, 6, 4, 4, 3, 0, 0, 2, 3, 6, 1, 3, 7, 6, 5, 3, 9, 1, 1, 8, 0, 9, 5, 0, 7, 4, 6, 7, 1, 1, 5, 3, 8, 9, 8, 3, 8, 9, 6, 6, 1, 1, 3, 5, 3, 7, 1, 9, 9, 2, 4, 7, 0, 1, 3, 9, 6, 3, 7, 2, 8, 1, 8, 0, 7, 9, 8, 5, 8, 2, 6, 4, 0, 6, 5, 8, 3, 8, 7, 5, 7, 3, 7, 6, 7, 0, 2, 2, 5, 3, 5, 1, 1, 7, 7, 6, 3, 6, 4, 2, 8, 6, 3, 1, 4, 9, 9, 4, 5, 2, 2, 7, 8, 0, 7, 9, 1, 2, 9, 4, 7, 3, 4, 3, 3, 1, 8, 8, 7, 3, 8, 0, 3, 4, 3, 6, 0, 2, 7, 3, 6, 8, 3, 9, 7, 3, 1, 7, 5, 8, 8, 6, 0, 6, 4, 4, 8, 5, 7, 0, 6, 6, 7, 7, 3, 9, 2, 5, 9, 7, 3, 7, 2, 2, 5, 1, 4, 5, 4, 5, 0, 4, 4, 1, 4, 4, 8, 4, 5, 9, 4, 1, 1, 7, 2, 3, 5, 6, 3, 9, 7, 5, 3, 8, 8, 8, 9, 1, 1, 6, 3, 1, 4, 3, 4, 9, 5, 6, 0, 6, 9, 4, 9, 6, 6, 1, 8, 9, 2, 9, 4, 8, 0, 7, 2, 3, 6, 2, 5, 6, 1, 9, 6, 4, 2, 9, 9, 0, 8, 3, 6, 6, 6, 0, 4, 2, 6, 6, 5, 0, 2, 7, 8, 7, 4, 6, 6, 6, 5, 2, 4, 2, 9, 5, 2, 6, 7, 0, 1, 9, 5, 5, 0, 7, 7, 5, 0, 5, 0, 8, 4, 7, 9, 8, 2, 4, 7, 3, 3, 7, 7, 7, 8, 4, 9, 5, 7, 6, 7, 7, 5, 1, 3, 0, 4, 9, 9, 8, 3, 7, 0, 4, 4, 9, 3, 3, 1, 7, 9, 1, 5, 7, 2, 7, 6, 5, 7, 3, 7, 5, 5, 4, 0, 7, 3, 3, 2, 6, 2, 9, 9, 0, 2, 0, 8, 3, 8, 8, 4, 6, 1, 8, 2, 8, 5, 0, 4, 4, 3, 0, 0, 1, 6, 8, 4, 9, 0, 7, 6, 7, 7, 1, 5, 8, 7, 2, 9, 9, 1, 2, 4, 1, 1, 1, 8, 8, 1, 3, 7, 5, 2, 0, 8, 4, 8, 9, 2, 1, 3, 1, 9, 8, 1, 1, 1, 8, 6, 9, 9, 7, 6, 0, 4, 2, 1, 1, 7, 9, 2, 2, 0, 3, 6, 4, 8, 1, 7, 2, 4, 2, 2, 4, 8, 7, 1, 8, 5, 5, 7, 7, 6, 6, 2, 9, 0, 6, 3, 5, 5, 0, 6, 1, 0, 3, 7, 7, 3, 7, 4, 5, 7, 9, 8, 9, 1, 2, 8, 3, 2, 6, 6, 0, 8, 3, 8, 6, 4, 6, 0, 8, 8, 2, 2, 9, 3, 2, 0, 8, 5, 7, 0, 3, 1, 1, 9, 5, 1, 3, 3, 6, 0, 8, 4, 1, 3, 8, 8, 0, 7, 5, 0, 6, 7, 3, 3, 2, 4, 6, 5, 5, 6, 2, 0, 9, 1, 1, 7, 3, 8, 7, 2, 2, 9, 3, 9, 9, 0, 1, 7, 1, 4, 8, 1, 2, 9, 3, 4, 0, 0, 7, 6, 9, 7, 5, 7, 7, 0, 9, 3, 3, 6, 9, 8, 4, 2, 6, 3, 9, 4, 3, 6, 7, 4, 0, 3, 8, 1, 8, 7, 4, 4, 5, 2, 2, 9, 1, 9, 4, 9, 1, 6, 2, 8, 8, 7, 7, 7, 7, 2, 6, 0, 7, 5, 8, 5, 6, 0, 4, 4, 9, 2, 6, 1, 1, 9, 3, 1, 2, 2, 2, 3, 7, 5, 7, 4, 4, 4, 1, 2, 3, 5, 4, 2, 9, 1, 5, 9, 3, 6, 6, 4, 0, 1, 7, 7, 6, 6, 7, 7, 3, 0, 4, 3, 2, 7, 8, 7, 2, 8, 0, 8, 7, 4, 4, 2, 7, 0, 9, 9, 3, 1, 5, 9, 3, 1, 0, 3, 3, 5, 9, 7, 9, 8, 3, 5, 9, 3, 7, 9, 3, 6, 6, 0, 5, 7, 7, 2, 3, 5, 3, 1, 1, 9, 4, 3, 9, 5, 5, 7, 2, 4, 9, 0, 2, 1, 9, 7, 1, 5, 0, 5, 5, 0, 3, 5, 0, 3, 3, 7, 4, 2, 6, 8, 5, 9, 2, 1, 0, 5, 5, 8, 5, 3, 7, 4, 4, 2, 9, 6, 0, 0, 9, 1, 4, 3, 1, 5, 3, 8, 5, 1, 1, 2, 9, 4, 0, 5, 2, 8, 0, 2, 9, 8, 4, 4, 8, 3, 8, 0, 4, 2, 0, 4, 8, 5, 4, 9, 0, 9, 5, 8, 6, 9, 1, 2, 7, 2, 1, 6, 6, 6, 6, 5, 0, 4, 8, 7, 5, 2, 0, 3, 8, 3, 6, 1, 9, 2, 7, 7, 2, 6, 2, 8, 3, 4, 8, 5, 6, 8, 3, 3, 1, 4, 4, 0, 4, 9, 0, 4, 1, 9, 9, 8, 1, 8, 8, 3, 3, 3, 8, 5, 9, 2, 6, 8, 7, 0, 3, 0, 0, 0, 5, 7, 5, 0, 7, 9, 1, 6, 4, 8, 9, 3, 5, 2, 0, 4, 6, 7, 8, 9, 1, 8, 2, 5, 5, 3, 1, 1, 8, 8, 3, 0, 7, 0, 1, 8, 3, 0, 4, 9, 8, 9, 8, 8, 6, 9, 1, 8, 4, 2, 7, 7, 0, 5, 1, 1, 0, 0, 2, 3, 0, 2, 3, 7, 1, 4, 3, 3, 4, 4, 5, 0, 9, 8, 3, 3, 1, 0, 2, 1, 4, 4, 4, 8, 4, 9, 0, 9, 9, 5, 0, 6, 0, 5, 0, 3, 9, 8, 3, 6, 1, 9, 6, 1, 0, 4, 5, 4, 1, 2, 8, 5, 9, 4, 5, 3, 3, 8, 3, 0, 6, 8, 9, 0, 5, 6, 2, 6, 9, 3, 2, 6, 8, 5, 9, 2, 3, 1, 3, 3, 6, 2, 7, 6, 1, 2, 6, 4, 0, 2, 8, 5, 0, 8, 5, 2, 7, 8, 1, 5, 9, 8, 6, 9, 0, 9, 3, 9, 5, 7, 9, 6, 0, 7, 1, 5, 5, 9, 5, 4, 4, 2, 4, 5, 9, 7, 4, 2, 6, 9, 9, 3, 2, 1, 3, 7, 1, 8, 7, 7, 1, 8, 9, 3, 7, 7, 7, 1, 7, 4, 6, 2, 2, 4, 5, 2, 8, 9, 6, 8, 0, 0, 7, 7, 5, 0, 1, 9, 6, 6, 4, 9, 6, 6, 6, 7, 1, 0, 5, 8, 7, 2, 8, 6, 3, 6, 1, 7, 4, 8, 7, 4, 1, 7, 8, 2, 4, 6, 4, 4, 1, 8, 6, 7, 2, 9, 4, 5, 0, 3, 3, 8, 8, 2, 0, 7, 2, 4, 0, 4, 1, 0, 8, 1, 7, 7, 2, 6, 3, 1, 2, 7, 0, 6, 0, 6, 2, 7, 2, 8, 3, 6, 3, 0, 9, 7, 3, 5, 4, 9, 6, 2, 5, 0, 6, 8, 4, 0, 4, 4, 0, 4, 1, 6, 6, 3, 7, 1, 3, 6, 4, 1, 1, 5, 6, 3, 8, 3, 3, 1, 7, 4, 9, 8, 8, 4, 5, 5, 6, 7, 3, 9, 1, 0, 5, 3, 7, 6, 1, 1, 8, 6, 2, 0, 5, 9, 6, 3, 8, 1, 0, 4, 6, 6, 2, 8, 3, 4, 2, 1, 9, 2, 7, 9, 5, 7, 6, 1, 5, 8, 8, 2, 6, 4, 6, 3, 1, 6, 4, 0, 3, 9, 8, 4, 0, 8, 4, 3, 9, 7, 1, 1, 7, 5, 1, 9, 2, 4, 2, 4, 8, 6, 7, 1, 3, 0, 7, 3, 5, 8, 1, 4, 2, 3, 2, 8, 8, 8, 3, 8, 1, 8, 9, 3, 0, 6, 0, 2, 9, 7, 3, 7, 0, 1, 3, 5, 9, 0, 0, 5, 0, 5, 8, 7, 3, 6, 2, 8, 0, 0, 9, 3, 0, 5, 8, 1, 1, 2, 6, 6, 0, 8, 4, 2, 3, 3, 9, 5, 4, 3, 3, 1, 8, 1, 5, 2, 0, 0, 7, 9, 3, 2, 7, 1, 7, 4, 1, 6, 2, 6, 6, 7, 0, 4, 9, 3, 2, 5, 0, 8, 6, 2, 2, 7, 4, 2, 1, 1, 0, 3, 5, 5, 2, 6, 2, 1, 8, 0, 4, 4, 3, 4, 2, 7, 2, 1, 9, 6, 2, 6, 8, 4, 5, 4, 9, 8, 1, 6, 3, 6, 4, 9, 4, 3, 5, 1, 2, 6, 0, 1, 1, 0, 2, 6, 9, 7, 0, 1, 2, 4, 0, 7, 2, 1, 1, 7, 7, 8, 7, 6, 5, 3, 7, 2, 0, 9, 2, 1, 6, 2, 2, 5, 8, 5, 2, 9, 8, 4, 0, 9, 0, 8, 1, 0, 8, 6, 8, 2, 0, 2, 3, 8, 7, 8, 2, 2, 0, 6, 0, 4, 5, 3, 4, 1, 1, 9, 7, 3, 6, 2, 1, 4, 2, 7, 5, 1, 8, 3, 3, 7, 9, 8, 7, 2, 7, 7, 7, 2, 2, 6, 6, 3, 3, 9, 1, 1, 4, 8, 0, 9, 7, 5, 2, 8, 8, 3, 6, 3, 8, 8, 2, 2, 5, 9, 2, 1, 8, 3, 2, 8, 3, 0, 1, 1, 3, 0, 1, 8, 2, 1, 5, 8, 1, 5, 8, 0, 7, 8, 7, 5, 9, 5, 5, 3, 6, 7, 8, 2, 5, 1, 0, 2, 6, 4, 3, 7, 7, 7, 7, 2, 5, 8, 5, 8, 5, 3, 0, 9, 7, 2, 0, 6, 8, 4, 0, 7, 4, 7, 6, 8, 4, 7, 0, 0, 4, 0, 2, 7, 8, 1, 3, 8, 1, 7, 3, 6, 1, 1, 6, 6, 9, 8, 4, 8, 2, 7, 7, 1, 3, 0, 3, 0, 7, 8, 7, 6, 5, 2, 6, 7, 5, 5, 8, 9, 7, 3, 2, 4, 8, 3, 9, 5, 7, 6, 2, 6, 7, 3, 8, 5, 1, 8, 9, 2, 6, 1, 6, 2, 7, 4, 0, 4, 4, 8, 9, 7, 9, 2, 2, 8, 2, 6, 0, 6, 3, 4, 1, 5, 2, 7, 5, 3, 7, 6, 2, 3, 5, 1, 1, 0, 7, 3, 8, 8, 7, 5, 9, 9, 5, 5, 3, 0, 7, 1, 4, 6, 0, 9, 9, 6, 0, 8, 0, 5, 7, 8, 0, 2, 7, 6, 6, 4, 8, 1, 0, 4, 8, 0, 7, 5, 8, 7, 7, 7, 5, 3, 7, 6, 3, 2, 0, 3, 4, 2, 0, 2, 9, 4, 5, 4, 4, 1, 2, 5, 7, 0, 5, 0, 2, 5, 0, 4, 6, 0, 6, 7, 6, 7, 2, 3, 4, 7, 1, 4, 3, 4, 2, 4, 3, 9, 9, 6, 8, 0, 4, 0, 0, 1, 9, 3, 9, 6, 8, 3, 9, 4, 7, 9, 1, 5, 8, 1, 0, 6, 2, 4, 8, 3, 3, 3, 0, 0, 0, 3, 3, 1, 6, 8, 4, 7, 3, 0, 8, 5, 8, 8, 8, 6, 1, 0, 8, 7, 8, 5, 8, 7, 0, 7, 2, 7, 1, 5, 5, 8, 3, 2, 8, 5, 9, 9, 4, 0, 6, 7, 1, 8, 8, 8, 7, 2, 0, 9, 7, 9, 6, 9, 2, 1, 4, 7, 2, 5, 2, 4, 2, 9, 0, 7, 1, 9, 7, 6, 5, 3, 8, 4, 9, 3, 9, 5, 7, 5, 1, 3, 3, 6, 0, 7, 5, 3, 5, 5, 8, 7, 7, 4, 6, 5, 5, 3, 4, 8, 3, 0, 9, 2, 3, 2, 2, 7, 4, 6, 9, 1, 4, 8, 1, 4, 7, 8, 2, 6, 7, 2, 0, 2, 2, 3, 2, 3, 0, 5, 2, 3, 2, 8, 5, 0, 7, 4, 6, 4, 8, 3, 5, 1, 3, 9, 1, 6, 9, 6, 7, 4, 0, 0, 2, 5, 0, 3, 5, 2, 5, 1, 7, 9, 4, 3, 7, 4, 0, 2, 8, 1, 0, 9, 9, 7, 8, 2, 6, 9, 7, 7, 5, 8, 8, 7, 5, 4, 5, 5, 3, 8, 9, 7, 2, 1, 4, 7, 1, 3, 6, 3, 4, 0, 9, 4, 7, 7, 6, 5, 0, 8, 8, 2, 8, 5, 6, 0, 7, 3, 0, 0, 4, 5, 2, 0, 7, 7, 7, 1, 5, 2, 1, 8, 5, 2, 2, 8, 7, 7, 6, 7, 1, 6, 9, 5, 3, 9, 3, 5, 0, 7, 4, 6, 0, 1, 6, 5, 9, 3, 2, 8, 5, 7, 3, 1, 4, 0, 8, 1, 8, 5, 6, 9, 3, 3, 8, 2, 4, 2, 0, 6, 4, 2, 3, 4, 5, 9, 1, 1, 9, 4, 7, 0, 4, 1, 0, 0, 7, 7, 0, 7, 8, 0, 5, 6, 4, 4, 8, 9, 7, 4, 9, 5, 3, 7, 2, 4, 1, 9, 7, 8, 1, 0, 9, 3, 6, 7, 8, 6, 5, 8, 7, 9, 9, 7, 0, 4, 2, 3, 4, 0, 7, 5, 3, 9, 2, 8, 8, 6, 0, 4, 1, 9, 3, 3, 5, 1, 7, 5, 9, 2, 8, 5, 5, 9, 5, 4, 0, 7, 3, 5, 4, 2, 6, 9, 4, 8, 1, 9, 2, 6, 6, 4, 6, 8, 7, 7, 4, 9, 3, 9, 6, 8, 2, 6, 9, 0, 4, 2, 5, 7, 0, 4, 6, 4, 1, 3, 1, 6, 7, 8, 8, 7, 7, 0, 5, 7, 3, 6, 0, 4, 0, 3, 6, 8, 8, 8, 0, 2, 3, 2, 8, 8, 1, 2, 1, 1, 6, 3, 2, 2, 6, 0, 6, 4, 1, 3, 2, 7, 0, 6, 7, 9, 9, 2, 7, 0, 9, 9, 8, 4, 8, 3, 4, 0, 9, 6, 2, 4, 3, 8, 3, 3, 6, 9, 6, 2, 7, 3, 7, 8, 8, 2, 4, 8, 8, 0, 1, 5, 8, 9, 8, 7, 1, 0, 3, 3, 3, 0, 9, 3, 9, 9, 1, 5, 9, 4, 1, 7, 6, 1, 0, 5, 3, 8, 8, 4, 1, 7, 0, 5, 0, 4, 1, 7, 1, 7, 9, 4, 3, 9, 2, 2, 9, 3, 5, 8, 8, 4, 4, 7, 7, 4, 2, 0, 5, 5, 3, 6, 2, 5, 6, 8, 5, 6, 9, 1, 3, 1, 4, 5, 9, 0, 7, 0, 3, 5, 6, 1, 5, 8, 5, 6, 6, 9, 1, 7, 1, 7, 1, 8, 0, 3, 4, 0, 2, 6, 3, 3, 8, 8, 3, 3, 6, 8, 1, 4, 3, 3, 2, 2, 1, 8, 3, 2, 6, 6, 4, 2, 3, 9, 2, 3, 0, 4, 5, 7, 1, 6, 1, 2, 6, 3, 8, 5, 1, 6, 5, 4, 8, 1, 7, 1, 6, 4, 7, 4, 6, 1, 5, 3, 3, 5, 8, 7, 7, 7, 2, 7, 5, 4, 4, 2, 0, 4, 2, 9, 9, 5, 8, 0, 4, 4, 1, 3, 7, 9, 0, 0, 9, 8, 5, 3, 0, 7, 1, 9, 7, 8, 2, 0, 9, 9, 1, 2, 0, 3, 2, 4, 5, 1, 0, 2, 8, 3, 4, 8, 3, 4, 0, 0, 3, 6, 7, 4, 4, 1, 7, 3, 0, 7, 9, 9, 1, 5, 5, 9, 1, 4, 6, 1, 2, 8, 3, 5, 7, 8, 0, 6, 2, 7, 2, 7, 5, 6, 8, 7, 8, 6, 4, 9, 2, 5, 5, 9, 9, 4, 4, 2, 6, 6, 3, 8, 7, 6, 6, 7, 5, 2, 9, 0, 3, 4, 4, 8, 4, 0, 2, 7, 0, 5, 3, 6, 4, 8, 0, 0, 2, 3, 2, 5, 5, 8, 0, 7, 0, 8, 9, 0, 2, 1, 4, 5, 1, 0, 2, 9, 6, 4, 9, 9, 1, 4, 3, 1, 6, 8, 6, 3, 3, 2, 2, 3, 2, 3, 8, 5, 2, 3, 2, 6, 8, 5, 4, 0, 1, 0, 2, 2, 6, 7, 9, 6, 2, 3, 3, 6, 8, 5, 4, 4, 0, 3, 3, 5, 2, 5, 1, 5, 5, 1, 7, 5, 2, 1, 8, 8, 0, 9, 0, 0, 0, 3, 6, 1, 8, 3, 4, 2, 1, 2, 0, 3, 0, 8, 5, 1, 5, 0, 2, 6, 3, 9, 8, 2, 8, 1, 0, 2, 6, 2, 6, 3, 7, 5, 0, 6, 2, 0, 8, 2, 2, 1, 8, 6, 8, 2, 9, 2, 6, 8, 5, 2, 7, 3, 2, 2, 6, 6, 6, 8, 5, 2, 1, 5, 2, 8, 2, 9, 0, 6, 3, 6, 4, 2, 7, 7, 9, 6, 2, 9, 8, 0, 5, 8, 7, 7, 0, 7, 7, 0, 7, 7, 2, 9, 7, 4, 2, 2, 3, 8, 0, 1, 9, 8, 0, 2, 6, 8, 3, 8, 0, 7, 6, 3, 3, 8, 1, 3, 8, 7, 3, 0, 3, 4, 8, 8, 9, 1, 3, 2, 1, 4, 8, 0, 4, 2, 7, 3, 9, 4, 9, 0, 4, 6, 5, 7, 0, 8, 1, 7, 5, 4, 9, 5, 7, 3, 6, 0, 9, 8, 7, 0, 7, 7, 4, 7, 5, 8, 7, 2, 4, 6, 2, 3, 8, 9, 7, 1, 3, 2, 2, 9, 7, 1, 2, 2, 6, 6, 5, 5, 4, 5, 2, 8, 9, 4, 9, 9, 1, 4, 8, 1, 5, 5, 5, 6, 8, 1, 5, 5, 7, 7, 9, 8, 3, 1, 1, 2, 6, 6, 9, 3, 2, 6, 4, 8, 6, 5, 4, 9, 0, 2, 8, 4, 8, 6, 3, 6, 1, 4, 3, 3, 8, 4, 9, 9, 0, 7, 9, 5, 3, 1, 7, 2, 8, 4, 9, 3, 1, 6, 0, 5, 0, 1, 9, 3, 6, 8, 3, 8, 4, 2, 5, 6, 9, 0, 1, 2, 0, 7, 9, 0, 1, 3, 9, 5, 1, 4, 1, 1, 4, 8, 3, 9, 5, 4, 4, 3, 7, 7, 7, 2, 3, 9, 1, 9, 4, 6, 0, 7, 6, 6, 7, 7, 6, 3, 4, 9, 0, 4, 0, 2, 7, 9, 6, 1, 1, 2, 0, 8, 8, 7, 6, 2, 7, 5, 7, 6, 1, 8, 1, 4, 9, 8, 9, 3, 1, 0, 0, 0, 3, 0, 6, 4, 1, 9, 7, 1, 2, 2, 5, 3, 4, 1, 7, 4, 7, 0, 2, 8, 8, 1, 4, 9, 7, 3, 3, 4, 9, 3, 9, 8, 5, 3, 8, 4, 7, 1, 4, 1, 7, 6, 8, 3, 2, 4, 8, 1, 1, 5, 8, 6, 1, 6, 2, 5, 0, 9, 5, 3, 5, 6, 6, 5, 6, 8, 3, 8, 0, 2, 9, 9, 1, 5, 3, 2, 6, 5, 3, 0, 3, 0, 7, 4, 0, 4, 1, 9, 5, 1, 7, 5, 5, 5, 9, 4, 8, 2, 6, 6, 4, 6, 2, 1, 1, 4, 2, 8, 4, 9, 0, 5, 8, 1, 3, 8, 3, 2, 4, 8, 3, 0, 9, 3, 6, 9, 7, 6, 2, 2, 6, 8, 9, 6, 3, 4, 7, 7, 9, 7, 3, 6, 9, 2, 7, 3, 0, 2, 0, 9, 2, 3, 3, 1, 9, 5, 8, 2, 3, 5, 0, 0, 4, 5, 6, 3, 5, 3, 7, 7, 6, 0, 9, 5, 1, 4, 4, 5, 3, 0, 6, 1, 4, 0, 5, 4, 8, 5, 7, 3, 0, 8, 3, 5, 6, 4, 9, 8, 9, 9, 0, 1, 7, 5, 0, 1, 5, 4, 3, 3, 3, 4, 4, 3, 0, 7, 8, 0, 9, 6, 3, 0, 4, 2, 7, 3, 5, 7, 3, 7, 8, 4, 6, 6, 2, 3, 1, 0, 7, 5, 0, 6, 4, 1, 1, 4, 7, 2, 3, 5, 5, 0, 2, 4, 4, 8, 9, 9, 2, 0, 9, 8, 3, 5, 3, 1, 2, 5, 0, 1, 8, 5, 8, 4, 0, 7, 8, 9, 2, 4, 6, 3, 6, 2, 6, 7, 9, 1, 9, 7, 4, 5, 6, 3, 2, 4, 5, 6, 6, 5, 8, 6, 4, 4, 9, 4, 7, 8, 3, 0, 2, 7, 7, 5, 9, 5, 7, 3, 8, 7, 5, 9, 9, 8, 2, 1, 0, 8, 0, 2, 6, 7, 9, 2, 2, 5, 2, 3, 2, 1, 1, 9, 0, 5, 5, 4, 9, 8, 9, 6, 5, 4, 6, 0, 5, 7, 8, 4, 8, 8, 7, 4, 9, 3, 9, 6, 9, 7, 3, 9, 9, 3, 3, 0, 2, 8, 7, 9, 3, 0, 6, 4, 1, 0, 3, 8, 4, 8, 4, 4, 2, 3, 5, 7, 7, 8, 5, 2, 3, 2, 1, 8, 3, 8, 5, 4, 2, 3, 0, 8, 3, 3, 4, 9, 0, 9, 9, 0, 1, 8, 3, 6, 3, 8, 6, 8, 5, 1, 3, 0, 1, 9, 3, 5, 0, 6, 2, 3, 1, 5, 3, 2, 8, 5, 7, 8, 0, 1, 1, 0, 6, 2, 5, 9, 0, 7, 2, 3, 0, 4, 4, 3, 3, 9, 4, 7, 0, 8, 3, 5, 6, 4, 0, 1, 3, 9, 4, 2, 5, 6, 5, 3, 2, 5, 6, 0, 0, 0, 6, 9, 1, 3, 3, 2, 5, 5, 4, 6, 1, 4, 9, 7, 2, 4, 7, 5, 7, 1, 4, 8, 7, 9, 5, 7, 0, 2, 9, 2, 5, 0, 7, 8, 2, 5, 2, 9, 4, 3, 2, 5, 9, 6, 5, 7, 7, 3, 8, 3, 9, 6, 5, 3, 6, 7, 6, 9, 5, 1, 3, 6, 9, 3, 6, 4, 5, 3, 4, 9, 9, 1, 2, 2, 2, 2, 3, 8, 7, 9, 9, 4, 8, 8, 9, 0, 7, 6, 4, 3, 8, 6, 4, 2, 0, 1, 2, 6, 2, 1, 5, 4, 6, 6, 0, 3, 4, 5, 6, 8, 7, 6, 6, 3, 1, 8, 6, 8, 9, 9, 5, 5, 8, 2, 5, 4, 4, 2, 5, 4, 9, 2, 9, 1, 0, 3, 4, 6, 9, 8, 3, 4, 9, 1, 9, 2, 7, 3, 5, 4, 3, 4, 2, 1, 0, 2, 4, 3, 7, 8, 4, 5, 5, 9, 0, 6, 3, 4, 5, 5, 5, 7, 6, 1, 3, 3, 7, 0, 7, 7, 6, 8, 3, 5, 5, 8, 1, 9, 4, 0, 4, 2, 1, 6, 0, 1, 6, 5, 0, 8, 1, 1, 7, 8, 6, 5, 9, 0, 8, 3, 4, 4, 2, 7, 0, 7, 3, 3, 2, 1, 7, 1, 6, 2, 3, 4, 0, 0, 6, 4, 8, 7, 0, 3, 0, 4, 7, 3, 3, 6, 0, 2, 4, 4, 1, 8, 1, 9, 1, 2, 6, 4, 6, 5, 3, 3, 5, 3, 5, 8, 3, 9, 7, 3, 0, 6, 1, 0, 1, 0, 7, 7, 4, 8, 9, 6, 1, 5, 6, 9, 4, 7, 9, 9, 9, 0, 1, 0, 9, 9, 5, 1, 7, 2, 9, 3, 5, 6, 8, 1, 7, 3, 3, 8, 2, 7, 0, 8, 9, 8, 8, 4, 5, 6, 4, 5, 9, 0, 0, 5, 3, 7, 7, 4, 4, 7, 4, 5, 8, 3, 7, 2, 7, 3, 8, 8, 8, 7, 8, 6, 0, 5, 7, 9, 8, 5, 6, 0, 6, 2, 6, 6, 8, 9, 9, 1, 9, 5, 8, 4, 4, 8, 4, 8, 7, 2, 8, 3, 0, 7, 8, 8, 3, 9, 9, 5, 9, 2, 6, 9, 7, 5, 7, 4, 9, 9, 2, 3, 9, 5, 3, 5, 3, 1, 2, 9, 1, 2, 8, 5, 1, 7, 9, 6, 3, 3, 6, 9, 6, 2, 0, 0, 0, 2, 9, 7, 1, 9, 8, 5, 6, 8, 5, 9, 5, 2, 4, 6, 5, 2, 2, 5, 4, 2, 7, 1, 6, 6, 4, 4, 5, 6, 4, 6, 7, 5, 5, 1, 5, 2, 4, 4, 2, 4, 1, 9, 0, 7, 2, 7, 4, 2, 9, 7, 4, 2, 6, 1, 7, 1, 4, 7, 6, 1, 7, 3, 0, 3, 6, 6, 6, 0, 4, 1, 7, 9, 0, 2, 9, 2, 0, 7, 1, 7, 5, 2, 9, 8, 2, 4, 0, 3, 3, 2, 2, 8, 1, 0, 8, 1, 8, 1, 0, 1, 2, 7, 3, 7, 7, 3, 3, 9, 9, 0, 8, 2, 5, 8, 9, 3, 3, 5, 4, 1, 3, 9, 4, 3, 2, 6, 1, 8, 1, 4, 4, 0, 6, 1, 7, 0, 5, 4, 5, 3, 6, 2, 1, 6, 0, 7, 3, 6, 2, 3, 6, 4, 5, 2, 9, 6, 8, 0, 4, 6, 0, 1, 7, 5, 3, 3, 3, 2, 0, 3, 5, 2, 6, 2, 5, 1, 4, 2, 2, 1, 9, 3, 4, 6, 9, 5, 8, 0, 6, 3, 6, 0, 8, 1, 2, 3, 3, 1, 5, 5, 3, 2, 6, 7, 1, 3, 2, 3, 0, 1, 2, 2, 8, 6, 8, 4, 7, 0, 3, 1, 3, 8, 3, 4, 1, 2, 0, 3, 6, 7, 7, 8, 3, 6, 9, 5, 6, 6, 9, 5, 4, 3, 8, 7, 3, 8, 3, 7, 9, 0, 2, 5, 1, 0, 5, 6, 3, 9, 7, 9, 6, 6, 7, 1, 2, 0, 8, 0, 2, 2, 7, 8, 6, 4, 4, 6, 9, 7, 3, 2, 5, 4, 5, 1, 9, 5, 0, 5, 6, 4, 1, 7, 9, 3, 3, 3, 4, 9, 1, 0, 3, 9, 5, 6, 8, 2, 4, 1, 4, 0, 6, 7, 9, 0, 1, 3, 4, 3, 6, 9, 8, 1, 3, 7, 3, 9, 9, 5, 4, 2, 3, 6, 8, 8, 5, 5, 1, 8, 8, 5, 7, 9, 9, 3, 4, 4, 2, 7, 9, 4, 6, 7, 5, 4, 7, 6, 1, 4, 2, 2, 0, 9, 6, 0, 5, 1, 1, 7, 8, 3, 6, 6, 2, 0, 6, 4, 9, 5, 2, 4, 4, 4, 6, 1, 5, 2, 7, 8, 6, 7, 7, 0, 8, 4, 3, 6, 9, 1, 2, 1, 7, 4, 3, 4, 9, 9, 6, 4, 4, 3, 0, 5, 7, 5, 6, 7, 8, 9, 9, 2, 7, 8, 7, 7, 5, 8, 7, 6, 6, 9, 0, 1, 8, 7, 5, 6, 5, 3, 7, 6, 6, 5, 5, 6, 9, 9, 1, 9, 5, 9, 4, 4, 1, 9, 8, 3, 5, 1, 6, 6, 5, 0, 2, 3, 7, 1, 1, 1, 8, 7, 5, 4, 4, 2, 7, 0, 0, 5, 3, 4, 8, 6, 5, 2, 7, 3, 2, 3, 2, 7, 8, 0, 7, 0, 9, 5, 8, 6, 7, 3, 5, 0, 9, 7, 3, 0, 0, 5, 7, 8, 4, 3, 1, 9, 0, 2, 9, 1, 3, 4, 6, 4, 3, 6, 2, 4, 8, 6, 2, 9, 5, 6, 1, 8, 2, 4, 1, 6, 2, 9, 4, 3, 7, 9, 6, 3, 5, 2, 5, 9, 8, 5, 3, 0, 1, 2, 6, 6, 1, 9, 6, 4, 0, 5, 5, 4, 6, 2, 0, 1, 4, 9, 9, 7, 0, 1, 2, 0, 0, 2, 6, 2, 5, 9, 4, 8, 4, 6, 1, 5, 9, 6, 1, 8, 9, 3, 1, 7, 1, 1, 1, 9, 1, 3, 8, 9, 9, 1, 9, 6, 0, 5, 8, 5, 5, 9, 3, 8, 9, 2, 7, 8, 2, 9, 2, 0, 1, 5, 0, 7, 8, 0, 0, 9, 1, 1, 8, 2, 8, 7, 2, 0, 7, 2, 0, 0, 5, 1, 6, 8, 6, 3, 7, 2, 1, 9, 7, 6, 1, 3, 7, 2, 4, 0, 3, 7, 5, 1, 1, 9, 5, 3, 5, 4, 6, 6, 1, 5, 2, 1, 6, 2, 5, 7, 9, 4, 4, 4, 1, 7, 9, 0, 7, 7, 3, 3, 8, 4, 1, 8, 2, 7, 6, 4, 8, 9, 2, 9, 3, 2, 4, 1, 1, 6, 4, 1, 6, 9, 6, 5, 9, 1, 5, 6, 9, 3, 2, 1, 7, 2, 9, 8, 8, 9, 5, 5, 3, 8, 2, 0, 3, 6, 1, 1, 9, 0, 9, 7, 5, 3, 2, 9, 5, 5, 4, 6, 9, 9, 3, 0, 6, 4, 1, 7, 4, 9, 2, 8, 5, 8, 6, 0, 1, 3, 2, 2, 3, 6, 6, 0, 2, 8, 3, 2, 8, 6, 1, 6, 4, 5, 4, 2, 3, 9, 0, 2, 4, 2, 5, 4, 2, 7, 3, 7, 3, 3, 6, 9, 4, 8, 5, 6, 0, 3, 6, 7, 2, 5, 3, 1, 1, 9, 7, 5, 2, 2, 1, 6, 4, 5, 9, 2, 5, 5, 3, 3, 0, 9, 2, 2, 6, 3, 2, 4, 7, 2, 3, 0, 4, 2, 0, 4, 1, 3, 7, 2, 4, 2, 2, 3, 2, 3, 0, 8, 3, 5, 1, 2, 8, 8, 2, 1, 2, 1, 1, 9, 6, 5, 9, 6, 8, 0, 3, 6, 3, 6, 3, 7, 5, 6, 1, 1, 2, 0, 5, 5, 0, 1, 0, 5, 2, 8, 9, 7, 9, 1, 1, 3, 3, 5, 6, 7, 5, 9, 6, 9, 3, 6, 6, 2, 8, 5, 6, 5, 9, 8, 3, 8, 1, 3, 1, 4, 5, 6, 5, 4, 4, 9, 6, 7, 1, 4, 8, 3, 7, 7, 6, 7, 9, 4, 7, 7, 0, 1, 4, 1, 6, 8, 2, 2, 7, 6, 7, 1, 8, 7, 5, 1, 3, 1, 0, 3, 4, 5, 3, 8, 6, 3, 4, 9, 3, 1, 5, 3, 0, 7, 0, 6, 4, 5, 1, 2, 6, 2, 8, 3, 9, 8, 6, 7, 2, 4, 2, 5, 1, 9, 3, 3, 8, 7, 1, 8, 1, 2, 0, 9, 2, 4, 3, 4, 6, 1, 3, 5, 2, 9, 5, 5, 3, 7, 5, 5, 6, 4, 8, 0, 7, 0, 8, 6, 2, 1, 9, 7, 7, 3, 8, 0, 3, 0, 9, 8, 5, 6, 2, 8, 1, 5, 7, 7, 0, 1, 6, 1, 3, 2, 6, 2, 6, 1, 7, 6, 2, 2, 6, 1, 8, 2, 4, 6, 3, 0, 8, 8, 4, 4, 2, 0, 7, 0, 8, 9, 1, 4, 6, 7, 6, 8, 1, 8, 2, 4, 4, 7, 5, 7, 9, 9, 3, 9, 4, 4, 0, 6, 1, 4, 8, 4, 6, 7, 0, 2, 2, 9, 1, 8, 0, 6, 2, 6, 0, 3, 6, 6, 1, 3, 6, 3, 4, 1, 7, 8, 1, 0, 7, 6, 5, 6, 8, 2, 8, 5, 8, 7, 8, 4, 5, 9, 5, 5, 1, 2, 4, 7, 2, 9, 7, 8, 6, 7, 4, 6, 3, 8, 8, 4, 5, 1, 8, 2, 4, 2, 2, 9, 8, 9, 0, 2, 7, 9, 3, 5, 9, 8, 6, 3, 9, 5, 9, 3, 0, 8, 6, 3, 6, 3, 5, 8, 6, 0, 3, 8, 2, 9, 0, 0, 7, 6, 6, 8, 7, 4, 8, 8, 2, 0, 3, 6, 7, 1, 4, 7, 4, 6, 7, 1, 6, 5, 2, 0, 7, 9, 6, 6, 8, 0, 1, 1, 8, 8, 3, 5, 7, 5, 6, 9, 4, 3, 9, 3, 8, 9, 0, 4, 0, 4, 5, 7, 0, 2, 3, 9, 7, 7, 4, 2, 5, 8, 3, 1, 3, 7, 4, 9, 4, 3, 9, 7, 2, 0, 8, 0, 9, 1, 9, 9, 0, 7, 1, 4, 5, 0, 3, 8, 7, 4, 5, 5, 9, 3, 2, 0, 6, 9, 0, 5, 0, 1, 3, 7, 9, 1, 5, 9, 0, 0, 9, 7, 2, 9, 2, 1, 2, 7, 5, 1, 0, 7, 3, 4, 7, 6, 4, 6, 8, 5, 7, 9, 5, 7, 3, 3, 3, 9, 3, 2, 1, 5, 6, 9, 7, 4, 0, 6, 5, 8, 0, 7, 7, 3, 4, 0, 4, 8, 2, 0, 6, 9, 8, 9, 6, 5, 0, 6, 0, 2, 6, 3, 1, 8, 7, 4, 1, 9, 1, 2, 8, 5, 2, 3, 0, 0, 2, 6, 0, 7, 2, 1, 8, 2, 8, 7, 9, 2, 1, 2, 5, 7, 7, 3, 6, 5, 7, 3, 6, 7, 3, 2, 3, 9, 6, 7, 3, 9, 1, 6, 1, 9, 7, 2, 3, 3, 8, 1, 8, 3, 5, 0, 5, 3, 8, 9, 7, 6, 9, 0, 6, 8, 3, 6, 3, 3, 6, 3, 7, 8, 7, 1, 3, 7, 8, 9, 5, 5, 2, 4, 4, 5, 0, 8, 6, 3, 6, 0, 8, 8, 9, 6, 9, 1, 5, 1, 2, 1, 3, 2, 2, 2, 4, 5, 7, 5, 9, 6, 0, 5, 7, 0, 5, 6, 5, 6, 0, 4, 0, 7, 1, 5, 4, 9, 8, 1, 7, 6, 2, 6, 0, 7, 1, 8, 5, 7, 8, 5, 5, 1, 8, 5, 7, 7, 7, 6, 5, 2, 2, 1, 2, 2, 6, 1, 6, 3, 9, 1, 8, 2, 4, 7, 4, 9, 5, 7, 4, 3, 9, 5, 6, 2, 2, 7, 3, 9, 3, 0, 5, 9, 0, 9, 6, 6, 4, 5, 7, 1, 6, 5, 4, 0, 2, 3, 1, 1, 1, 7, 6, 2, 6, 5, 9, 8, 7, 9, 3, 4, 7, 9, 4, 0, 1, 1, 1, 4, 8, 0, 8, 0, 9, 5, 6, 7, 0, 8, 2, 3, 4, 2, 2, 2, 5, 7, 2, 9, 7, 2, 2, 2, 0, 7, 4, 5, 2, 3, 3, 1, 9, 8, 1, 8, 6, 2, 3, 9, 1, 9, 7, 2, 9, 2, 9, 3, 0, 4, 2, 3, 4, 6, 0, 9, 6, 1, 1, 0, 9, 6, 7, 0, 4, 1, 1, 7, 0, 0, 1, 9, 2, 7, 3, 5, 6, 1, 6, 0, 4, 0, 3, 0, 2, 3, 5, 9, 5, 8, 9, 3, 1, 7, 8, 9, 4, 1, 1, 7, 0, 7, 0, 0, 9, 6, 0, 2, 9, 3, 8, 5, 5, 9, 3, 3, 5, 7, 1, 3, 3, 3, 5, 6, 6, 4, 1, 1, 9, 1, 4, 0, 6, 2, 2, 6, 6, 0, 3, 5, 0, 3, 0, 5, 1, 1, 8, 2, 5, 3, 5, 1, 6, 2, 3, 1, 2, 7, 9, 6, 3, 8, 5, 2, 6, 9, 1, 5, 7, 7, 6, 2, 2, 7, 5, 4, 1, 5, 7, 7, 8, 2, 8, 3, 7, 4, 0, 2, 9, 9, 0, 0, 7, 3, 1, 0, 8, 2, 4, 4, 4, 7, 1, 8, 2, 0, 3, 4, 0, 2, 9, 8, 0, 3, 8, 3, 9, 2, 1, 5, 6, 5, 0, 8, 4, 2, 5, 9, 3, 0, 4, 7, 8, 5, 9, 5, 0, 0, 6, 9, 7, 2, 9, 2, 2, 6, 4, 0, 1, 4, 3, 9, 4, 0, 3, 4, 2, 6, 9, 4, 7, 2, 5, 4, 3, 4, 5, 7, 0, 2, 1, 1, 8, 7, 3, 2, 0, 5, 4, 3, 8, 8, 8, 9, 3, 6, 9, 2, 3, 3, 6, 8, 2, 8, 8, 5, 9, 6, 7, 1, 9, 0, 3, 3, 3, 2, 3, 9, 9, 5, 3, 0, 4, 2, 4, 6, 4, 5, 3, 4, 9, 8, 5, 8, 3, 4, 1, 4, 8, 9, 2, 6, 2, 3, 5, 6, 3, 5, 2, 5, 3, 9, 1, 2, 9, 8, 9, 3, 8, 8, 5, 5, 8, 4, 4, 0, 8, 3, 0, 4, 9, 6, 1, 0, 5, 1, 4, 3, 9, 2, 6, 3, 6, 7, 4, 6, 4, 3, 8, 5, 1, 8, 3, 4, 4, 5, 6, 0, 7, 8, 7, 4, 2, 2, 2, 9, 3, 5, 0, 9, 9, 0, 1, 3, 7, 1, 7, 6, 7, 2, 6, 9, 5, 7, 9, 4, 2, 8, 3, 1, 7, 8, 8, 6, 8, 0, 5, 5, 7, 1, 9, 6, 2, 1, 5, 1, 9, 6, 1, 6, 3, 2, 7, 3, 9, 3, 5, 4, 0, 6, 9, 5, 6, 2, 3, 8, 5, 8, 3, 6, 4, 1, 4, 9, 5, 8, 9, 7, 3, 6, 9, 5, 9, 1, 1, 1, 8, 4, 1, 4, 6, 9, 9, 8, 9, 7, 2, 4, 1, 9, 9, 1, 9, 6, 2, 3, 7, 3, 1, 3, 6, 8, 3, 4, 3, 3, 8, 3, 7, 1, 0, 3, 8, 4, 7, 9, 8, 0, 3, 0, 4, 5, 7, 6, 7, 2, 5, 0, 6, 6, 3, 3, 0, 0, 4, 4, 4, 4, 6, 9, 9, 0, 7, 4, 0, 2, 6, 1, 9, 5, 9, 9, 0, 5, 8, 6, 7, 3, 9, 5, 2, 8, 9, 5, 8, 0, 0, 3, 0, 6, 3, 7, 8, 0, 1, 2, 2, 3, 1, 1, 2, 2, 2, 5, 4, 3, 9, 3, 4, 2, 3, 7, 2, 9, 2, 1, 6, 7, 5, 5, 9, 2, 6, 9, 7, 9, 7, 4, 1, 8, 3, 3, 8, 0, 8, 7, 0, 7, 7, 9, 6, 4, 0, 3, 7, 2, 1, 5, 2, 0, 5, 8, 6, 7, 0, 1, 0, 5, 6, 2, 1, 4, 1, 8, 7, 9, 9, 7, 3, 6, 2, 4, 7, 6, 3, 9, 6, 3, 9, 5, 1, 3, 9, 3, 7, 4, 3, 5, 7, 2, 7, 2, 8, 7, 5, 4, 5, 9, 6, 3, 5, 0, 2, 5, 5, 3, 1, 9, 3, 7, 1, 0, 3, 4, 4, 2, 5, 7, 2, 1, 1, 7, 7, 9, 0, 1, 6, 8, 5, 2, 5, 3, 7, 8, 7, 7, 0, 8, 5, 6, 0, 7, 5, 6, 7, 7, 9, 7, 1, 0, 0, 8, 0, 4, 0, 3, 4, 5, 5, 0, 5, 3, 0, 4, 5, 6, 7, 1, 8, 7, 1, 2, 2, 0, 4, 7, 3, 7, 4, 8, 2, 3, 9, 4, 6, 3, 6, 8, 7, 3, 3, 0, 5, 6, 1, 5, 0, 9, 9, 1, 3, 0, 6, 1, 6, 6, 5, 7, 2, 4, 0, 9, 2, 6, 8, 2, 8, 3, 7, 7, 3, 3, 9, 5, 7, 6, 0, 9, 4, 5, 0, 7, 2, 9, 5, 5, 8, 7, 4, 9, 5, 6, 3, 6, 3, 6, 4, 7, 6, 4, 2, 5, 4, 1, 5, 7, 9, 7, 3, 9, 8, 8, 5, 1, 9, 6, 3, 0, 6, 8, 0, 7, 0, 9, 8, 8, 3, 3, 4, 1, 7, 7, 1, 1, 6, 7, 0, 3, 2, 8, 7, 8, 7, 9, 1, 1, 3, 8, 7, 9, 9, 1, 0, 6, 3, 4, 4, 2, 7, 1, 4, 0, 1, 5, 4, 4, 9, 2, 4, 2, 2, 6, 7, 7, 4, 7, 1, 4, 0, 8, 3, 3, 5, 6, 0, 8, 3, 0, 2, 0, 1, 8, 4, 3, 2, 9, 5, 4, 4, 5, 2, 1, 6, 4, 4, 5, 8, 0, 7, 3, 0, 6, 7, 4, 2, 3, 6, 4, 2, 6, 3, 6, 5, 1, 7, 5, 2, 5, 7, 7, 9, 9, 9, 2, 0, 9, 2, 0, 5, 5, 5, 0, 5, 6, 6, 6, 0, 6, 9, 9, 2, 4, 5, 4, 0, 1, 0, 8, 9, 5, 7, 3, 0, 6, 4, 1, 6, 8, 1, 8, 2, 6, 6, 9, 8, 5, 1, 2, 4, 0, 9, 0, 8, 8, 0, 7, 3, 6, 9, 8, 9, 9, 4, 9, 6, 3, 3, 2, 9, 0, 8, 0, 4, 0, 3, 0, 0, 0, 3, 3, 5, 9, 4, 7, 1, 5, 4, 1, 6, 1, 7, 9, 4, 6, 4, 5, 2, 9, 6, 9, 8, 8, 7, 4, 2, 3, 9, 3, 6, 7, 0, 2, 7, 0, 6, 1, 0, 5, 7, 0, 5, 9, 2, 3, 2, 8, 5, 8, 1, 9, 6, 7, 6, 7, 3, 6, 2, 5, 6, 8, 8, 8, 7, 4, 6, 5, 1, 5, 9, 6, 3, 9, 5, 8, 5, 7, 3, 9, 8, 3, 4, 6, 5, 7, 5, 1, 1, 5, 4, 1, 4, 5, 8, 4, 9, 6, 3, 3, 4, 0, 3, 4, 1, 1, 4, 7, 0, 7, 0, 2, 8, 8, 8, 6, 7, 7, 1, 2, 6, 6, 1, 6, 0, 2, 5, 8, 2, 4, 2, 3, 1, 5, 5, 4, 4, 0, 5, 4, 7, 0, 3, 4, 5, 5, 7, 5, 7, 0, 1, 1, 9, 7, 5, 0, 1, 9, 6, 3, 6, 5, 4, 0, 4, 5, 7, 2, 2, 2, 0, 5, 6, 6, 3, 7, 8, 6, 2, 2, 1, 1, 7, 5, 2, 5, 3, 6, 8, 5, 8, 8, 6, 1, 2, 3, 7, 6, 9, 0, 4, 5, 2, 3, 4, 9, 5, 5, 9, 4, 6, 4, 1, 1, 8, 9, 4, 4, 2, 3, 3, 3, 7, 1, 8, 8, 5, 0, 3, 7, 7, 1, 0, 1, 4, 1, 9, 0, 6, 1, 1, 0, 7, 3, 7, 3, 9, 0, 1, 8, 9, 0, 6, 6, 0, 9, 1, 6, 1, 2, 7, 8, 0, 5, 6, 8, 2, 5, 5, 1, 5, 9, 1, 8, 5, 3, 1, 2, 6, 3, 7, 3, 5, 4, 8, 0, 7, 1, 2, 3, 9, 8, 3, 8, 7, 7, 9, 7, 0, 9, 4, 0, 9, 6, 1, 9, 8, 6, 3, 7, 6, 9, 5, 4, 7, 1, 2, 1, 2, 3, 9, 6, 0, 5, 0, 0, 5, 5, 4, 0, 9, 9, 1, 0, 7, 7, 7, 4, 5, 1, 4, 0, 6, 3, 8, 9, 8, 4, 1, 0, 8, 3, 9, 8, 8, 7, 8, 3, 6, 0, 7, 6, 8, 6, 9, 9, 4, 7, 7, 6, 2, 1, 5, 4, 4, 3, 5, 5, 0, 8, 2, 7, 8, 9, 4, 2, 1, 7, 4, 6, 4, 7, 4, 3, 6, 0, 7, 7, 8, 0, 9, 1, 2, 6, 2, 9, 7, 1, 9, 9, 3, 3, 1, 2, 3, 5, 6, 3, 7, 4, 1, 4, 6, 2, 7, 5, 4, 6, 7, 7, 8, 1, 8, 1, 2, 2, 7, 5, 6, 1, 2, 6, 0, 1, 2, 0, 7, 6, 8, 8, 2, 8, 4, 5, 0, 0, 1, 7, 9, 7, 4, 5, 4, 0, 2, 8, 7, 1, 0, 8, 7, 6, 8, 6, 8, 2, 8, 0, 1, 5, 3, 8, 1, 7, 6, 9, 3, 7, 9, 5, 1, 8, 3, 0, 9, 3, 0, 6, 4, 2, 7, 6, 6, 9, 8, 8, 1, 5, 7, 7, 1, 7, 5, 4, 0, 0, 7, 8, 7, 3, 7, 0, 6, 5, 5, 4, 6, 7, 2, 6, 3, 2, 0, 4, 7, 8, 6, 6, 0, 1, 5, 3, 8, 3, 9, 7, 1, 7, 1, 0, 3, 8, 5, 0, 0, 6, 4, 1, 1, 2, 9, 0, 0, 2, 1, 3, 2, 7, 0, 1, 8, 5, 7, 0, 0, 5, 0, 4, 6, 2, 2, 5, 4, 1, 8, 2, 1, 5, 3, 8, 8, 9, 9, 0, 1, 8, 1, 4, 9, 6, 3, 1, 1, 4, 7, 8, 3, 4, 9, 3, 2, 8, 2, 8, 6, 9, 4, 7, 5, 0, 3, 6, 4, 5, 7, 3, 7, 4, 6, 6, 9, 3, 0, 5, 4, 1, 2, 1, 8, 1, 9, 4, 8, 9, 9, 3, 3, 7, 0, 0, 6, 1, 6, 6, 6, 4, 2, 2, 7, 0, 6, 0, 4, 0, 0, 1, 3, 6, 6, 5, 7, 9, 6, 6, 3, 7, 5, 1, 6, 7, 7, 5, 8, 0, 9, 1, 6, 1, 4, 9, 1, 6, 5, 3, 3, 0, 7, 1, 2, 7, 9, 3, 7, 4, 4, 4, 6, 7, 2, 7, 3, 1, 7, 8, 8, 7, 0, 1, 6, 0, 9, 7, 5, 9, 1, 2, 0, 4, 7, 4, 3, 3, 1, 7, 5, 7, 6, 9, 0, 0, 3, 1, 4, 7, 9, 3, 6, 7, 8, 4, 7, 4, 0, 8, 3, 0, 1, 7, 9, 6, 9, 1, 6, 6, 7, 1, 0, 6, 3, 7, 3, 1, 8, 4, 5, 9, 5, 8, 1, 0, 9, 0, 6, 6, 1, 1, 4, 7, 3, 0, 7, 9, 8, 9, 5, 4, 0, 4, 7, 2, 3, 8, 3, 8, 1, 1, 2, 4, 8, 1, 6, 8, 1, 8, 5, 3, 2, 7, 0, 2, 4, 9, 6, 2, 4, 9, 9, 6, 9, 9, 6, 7, 3, 4, 3, 3, 9, 2, 7, 7, 8, 1, 1, 0, 6, 5, 7, 9, 4, 7, 4, 7, 0, 0, 6, 9, 7, 7, 7, 5, 0, 1, 6, 3, 4, 6, 2, 0, 9, 8, 7, 8, 4, 2, 8, 9, 9, 1, 6, 7, 9, 9, 0, 1, 5, 1, 1, 3, 6, 7, 9, 8, 3, 3, 8, 5, 2, 4, 3, 6, 8, 0, 9, 0, 6, 9, 0, 1, 6, 8, 1, 8, 2, 1, 8, 1, 7, 1, 9, 1, 8, 3, 9, 4, 1, 0, 6, 4, 4, 6, 8, 2, 6, 5, 5, 0, 2, 4, 9, 8, 0, 1, 0, 0, 4, 8, 3, 4, 7, 7, 5, 9, 2, 5, 4, 4, 9, 9, 4, 8, 7, 2, 9, 1, 4, 0, 2, 8, 0, 1, 9, 2, 1, 6, 7, 3, 8, 7, 6, 4, 6, 4, 1, 1, 9, 8, 8, 9, 1, 2, 6, 0, 5, 2, 5, 3, 8, 3, 0, 3, 8, 6, 1, 5, 0, 3, 3, 1, 9, 2, 8, 7, 8, 2, 3, 6, 2, 5, 6, 9, 0, 7, 1, 1, 7, 9, 0, 1, 6, 7, 7, 4, 6, 3, 3, 6, 1, 0, 0, 9, 9, 8, 2, 9, 6, 2, 5, 4, 7, 2, 6, 5, 6, 0, 9, 3, 7, 0, 6, 3, 5, 6, 4, 3, 2, 6, 9, 8, 8, 0, 2, 0, 0, 3, 9, 2, 2, 8, 1, 9, 2, 4, 9, 0, 0, 2, 0, 6, 7, 0, 5, 0, 6, 3, 1, 3, 0, 9, 5, 4, 3, 7, 0, 6, 6, 9, 0, 7, 3, 5, 6, 8, 2, 1, 0, 3, 6, 5, 9, 3, 5, 0, 6, 0, 7, 4, 6, 8, 3, 3, 8, 6, 3, 8, 9, 4, 0, 8, 8, 3, 8, 2, 7, 7, 0, 3, 6, 8, 3, 5, 9, 2, 2, 8, 9, 4, 1, 0, 5, 5, 4, 2, 8, 2, 4, 6, 7, 4, 5, 3, 7, 4, 5, 8, 8, 3, 9, 5, 6, 6, 4, 6, 3, 6, 6, 9, 2, 5, 6, 5, 6, 3, 1, 7, 8, 6, 2, 7, 3, 3, 8, 0, 0, 9, 2, 8, 5, 4, 9, 6, 4, 4, 6, 0, 1, 1, 9, 3, 8, 2, 1, 9, 5, 8, 4, 8, 2, 3, 5, 2, 6, 4, 9, 2, 6, 2, 9, 8, 6, 5, 9, 2, 4, 5, 2, 1, 0, 7, 2, 4, 2, 7, 4, 6, 6, 6, 1, 5, 4, 0, 1, 9, 9, 5, 6, 5, 6, 9, 6, 6, 4, 5, 4, 8, 9, 0, 9, 5, 5, 5, 7, 9, 3, 4, 8, 4, 3, 9, 3, 1, 0, 2, 5, 2, 8, 7, 9, 7, 7, 7, 9, 2, 0, 0, 6, 7, 6, 1, 8, 0, 3, 8, 5, 0, 5, 6, 9, 1, 1, 2, 2, 8, 9, 7, 7, 5, 8, 6, 1, 4, 0, 1, 8, 4, 3, 4, 7, 9, 3, 7, 5, 5, 0, 9, 1, 2, 1, 0, 7, 4, 0, 9, 3, 2, 0, 1, 7, 8, 1, 6, 5, 9, 0, 0, 9, 5, 3, 8, 8, 2, 8, 5, 7, 0, 7, 0, 9, 6, 9, 2, 9, 4, 8, 5, 4, 0, 1, 6, 6, 6, 7, 4, 1, 7, 7, 8, 5, 7, 0, 6, 4, 2, 1, 3, 8, 0, 0, 2, 7, 5, 9, 1, 0, 4, 3, 7, 6, 6, 3, 1, 8, 4, 7, 2, 5, 9, 3, 1, 7, 1, 9, 2, 9, 6, 2, 2, 1, 8, 3, 9, 8, 4, 0, 4, 8, 4, 5, 1, 2, 2, 6, 4, 1, 8, 5, 7, 7, 7, 6, 5, 5, 7, 9, 9, 8, 2, 8, 2, 1, 3, 3, 4, 8, 9, 4, 0, 7, 3, 6, 8, 1, 2, 6, 1, 6, 5, 4, 9, 7, 2, 8, 7, 3, 7, 2, 1, 4, 1, 7, 4, 8, 8, 7, 0, 2, 3, 0, 1, 2, 6, 5, 0, 1, 5, 5, 2, 5, 1, 7, 8, 7, 1, 2, 9, 0, 9, 0, 1, 9, 0, 4, 6, 6, 5, 9, 9, 4, 2, 7, 1, 8, 1, 4, 2, 3, 7, 8, 4, 6, 4, 5, 4, 2, 9, 3, 5, 6, 0, 1, 9, 6, 7, 3, 7, 4, 4, 6, 6, 2, 1, 3, 3, 0, 7, 0, 5, 9, 8, 9, 3, 7, 9, 9, 6, 8, 8, 0, 1, 4, 4, 0, 6, 8, 1, 2, 1, 3, 3, 2, 7, 8, 7, 0, 4, 3, 6, 4, 5, 7, 7, 4, 5, 2, 4, 5, 0, 1, 7, 6, 7, 6, 0, 0, 2, 5, 1, 1, 2, 4, 6, 9, 8, 1, 6, 1, 6, 8, 5, 4, 0, 4, 0, 4, 9, 3, 8, 5, 2, 8, 6, 2, 8, 6, 4, 4, 0, 8, 7, 5, 2, 8, 9, 2, 9, 5, 9, 2, 1, 0, 4, 1, 7, 7, 1, 7, 3, 5, 8, 7, 2, 5, 1, 5, 6, 0, 6, 0, 1, 2, 4, 4, 8, 0, 3, 2, 6, 3, 5, 1, 2, 3, 0, 5, 1, 8, 3, 1, 8, 7, 8, 4, 2, 0, 3, 7, 8, 1, 3, 9, 0, 2, 8, 1, 4, 8, 8, 3, 0, 8, 5, 7, 5, 4, 7, 7, 6, 1, 8, 1, 7, 7, 0, 3, 1, 6, 5, 5, 3, 8, 9, 4, 0, 9, 5, 1, 7, 6, 1, 5, 2, 8, 3, 3, 3, 7, 1, 3, 4, 4, 7, 7, 0, 6, 7, 3, 3, 7, 8, 8, 2, 9, 6, 9, 7, 3, 2, 9, 3, 0, 5, 5, 6, 9, 1, 4, 4, 5, 6, 4, 1, 4, 0, 3, 3, 6, 3, 6, 8, 4, 7, 5, 5, 7, 0, 7, 9, 4, 4, 2, 9, 2, 7, 1, 8, 8, 8, 5, 8, 3, 8, 9, 3, 0, 0, 2, 1, 8, 4, 4, 6, 0, 9, 5, 3, 1, 5, 1, 3, 5, 6, 6, 2, 1, 7, 3, 0, 8, 2, 9, 3, 9, 6, 0, 4, 1, 2, 6, 4, 9, 1, 4, 9, 7, 8, 2, 6, 0, 9, 7, 8, 5, 0, 9, 0, 0, 0, 8, 1, 3, 2, 7, 5, 8, 4, 5, 6, 8, 9, 1, 9, 1, 8, 1, 5]\n"
     ]
    }
   ],
   "source": [
    "test_labels_pred = []\n",
    "raw_predictions = model(test_images).numpy()\n",
    "for row_idx in range(raw_predictions.shape[0]):\n",
    "    logits = raw_predictions[row_idx, :]\n",
    "    probs = tf.nn.softmax(logits).numpy()\n",
    "    class_pred = np.argmax(probs)\n",
    "    test_labels_pred.append(class_pred)\n",
    "print(test_labels_pred)"
   ]
  },
  {
   "cell_type": "code",
   "execution_count": 19,
   "metadata": {},
   "outputs": [
    {
     "name": "stdout",
     "output_type": "stream",
     "text": [
      "[[832   0  16  38   3   1 105   0   5   0]\n",
      " [  3 959   2  27   5   0   4   0   0   0]\n",
      " [ 16   0 804  15  73   0  92   0   0   0]\n",
      " [ 16   2  14 910  36   0  19   0   3   0]\n",
      " [  0   0 100  23 797   0  79   0   1   0]\n",
      " [  0   0   0   1   0 947   0  39   1  12]\n",
      " [100   1  67  44  62   0 721   0   5   0]\n",
      " [  0   0   0   0   0   4   0 983   0  13]\n",
      " [  4   1   5   3   3   1  13   4 966   0]\n",
      " [  0   0   0   0   0   5   1  48   0 946]]\n"
     ]
    }
   ],
   "source": [
    "mat = confusion_matrix(test_labels, test_labels_pred)\n",
    "print(mat)"
   ]
  },
  {
   "cell_type": "code",
   "execution_count": 1,
   "metadata": {},
   "outputs": [
    {
     "name": "stdout",
     "output_type": "stream",
     "text": [
      "The type of prediction mistake which occurs most frequently is in the first row (T-shirt/top), and seventh column (Shirt), occuring 105 times.\n"
     ]
    }
   ],
   "source": [
    "print(\"The type of prediction mistake which occurs most frequently is in the first row (T-shirt/top), and seventh column (Shirt), occuring 105 times.\")"
   ]
  },
  {
   "cell_type": "code",
   "execution_count": null,
   "metadata": {},
   "outputs": [],
   "source": []
  }
 ],
 "metadata": {
  "kernelspec": {
   "display_name": "Python 3 (ipykernel)",
   "language": "python",
   "name": "python3"
  },
  "language_info": {
   "codemirror_mode": {
    "name": "ipython",
    "version": 3
   },
   "file_extension": ".py",
   "mimetype": "text/x-python",
   "name": "python",
   "nbconvert_exporter": "python",
   "pygments_lexer": "ipython3",
   "version": "3.9.12"
  }
 },
 "nbformat": 4,
 "nbformat_minor": 4
}
