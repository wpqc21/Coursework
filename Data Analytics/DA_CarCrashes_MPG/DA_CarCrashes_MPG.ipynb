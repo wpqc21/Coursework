{
 "cells": [
  {
   "attachments": {},
   "cell_type": "markdown",
   "metadata": {},
   "source": [
    "## Data Analytics and Visualization\n",
    "#### *car_crashes2.csv* and *mpg3.csv* datasets\n"
   ]
  },
  {
   "cell_type": "markdown",
   "metadata": {},
   "source": [
    "### This homework will cover the following skills set\n",
    "* Using sql \n",
    "* Checking for null values and outliers\n",
    "* Calculate simple statistics using both SQL and Pandas \n",
    "* Calculate skew and correlation\n",
    "* Basic Data Visualization\n",
    "* How to fix missing values"
   ]
  },
  {
   "cell_type": "markdown",
   "metadata": {},
   "source": [
    "**Make sure you have pandasql installed. If not, make sure you run the code in the following cell**"
   ]
  },
  {
   "cell_type": "code",
   "execution_count": 288,
   "metadata": {},
   "outputs": [],
   "source": [
    "import os\n",
    "try:\n",
    "    import pandasql as ps\n",
    "except:\n",
    "    print(\"Failed in import pandasql\")\n",
    "    os.system(\"pip install pandasql\")"
   ]
  },
  {
   "cell_type": "markdown",
   "metadata": {},
   "source": [
    "**Import all standard libaries**"
   ]
  },
  {
   "cell_type": "code",
   "execution_count": 289,
   "metadata": {},
   "outputs": [],
   "source": [
    "import pandas as pd\n",
    "import pandasql as ps\n",
    "import numpy as np\n",
    "import matplotlib.pyplot as plt\n",
    "import seaborn as sns\n",
    "\n",
    "pd.set_option('display.max_rows', None)\n",
    "pd.set_option('display.max_columns', None)\n",
    "pd.set_option('display.width', None)"
   ]
  },
  {
   "cell_type": "markdown",
   "metadata": {},
   "source": [
    "## Loading Car Crashes dataset Number 2 ##"
   ]
  },
  {
   "cell_type": "code",
   "execution_count": 290,
   "metadata": {},
   "outputs": [
    {
     "name": "stdout",
     "output_type": "stream",
     "text": [
      "(52, 10)\n"
     ]
    },
    {
     "data": {
      "text/html": [
       "<div>\n",
       "<style scoped>\n",
       "    .dataframe tbody tr th:only-of-type {\n",
       "        vertical-align: middle;\n",
       "    }\n",
       "\n",
       "    .dataframe tbody tr th {\n",
       "        vertical-align: top;\n",
       "    }\n",
       "\n",
       "    .dataframe thead th {\n",
       "        text-align: right;\n",
       "    }\n",
       "</style>\n",
       "<table border=\"1\" class=\"dataframe\">\n",
       "  <thead>\n",
       "    <tr style=\"text-align: right;\">\n",
       "      <th></th>\n",
       "      <th>accidents</th>\n",
       "      <th>speeding</th>\n",
       "      <th>alcohol</th>\n",
       "      <th>not_distracted</th>\n",
       "      <th>no_previous</th>\n",
       "      <th>ins_premium</th>\n",
       "      <th>ins_losses</th>\n",
       "      <th>state</th>\n",
       "      <th>region</th>\n",
       "      <th>division</th>\n",
       "    </tr>\n",
       "  </thead>\n",
       "  <tbody>\n",
       "    <tr>\n",
       "      <th>0</th>\n",
       "      <td>18.8</td>\n",
       "      <td>7.332</td>\n",
       "      <td>5.640</td>\n",
       "      <td>18.048</td>\n",
       "      <td>15.040</td>\n",
       "      <td>784.55</td>\n",
       "      <td>145.08</td>\n",
       "      <td>AL</td>\n",
       "      <td>South</td>\n",
       "      <td>East South Central</td>\n",
       "    </tr>\n",
       "    <tr>\n",
       "      <th>1</th>\n",
       "      <td>18.1</td>\n",
       "      <td>7.421</td>\n",
       "      <td>4.525</td>\n",
       "      <td>16.290</td>\n",
       "      <td>17.014</td>\n",
       "      <td>1053.48</td>\n",
       "      <td>133.93</td>\n",
       "      <td>AK</td>\n",
       "      <td>West</td>\n",
       "      <td>Pacific</td>\n",
       "    </tr>\n",
       "    <tr>\n",
       "      <th>2</th>\n",
       "      <td>18.6</td>\n",
       "      <td>6.510</td>\n",
       "      <td>5.208</td>\n",
       "      <td>15.624</td>\n",
       "      <td>17.856</td>\n",
       "      <td>899.47</td>\n",
       "      <td>110.35</td>\n",
       "      <td>AZ</td>\n",
       "      <td>West</td>\n",
       "      <td>Mountain</td>\n",
       "    </tr>\n",
       "    <tr>\n",
       "      <th>3</th>\n",
       "      <td>22.4</td>\n",
       "      <td>4.032</td>\n",
       "      <td>5.824</td>\n",
       "      <td>21.056</td>\n",
       "      <td>21.280</td>\n",
       "      <td>827.34</td>\n",
       "      <td>142.39</td>\n",
       "      <td>AR</td>\n",
       "      <td>South</td>\n",
       "      <td>West South Central</td>\n",
       "    </tr>\n",
       "    <tr>\n",
       "      <th>4</th>\n",
       "      <td>12.0</td>\n",
       "      <td>4.200</td>\n",
       "      <td>3.360</td>\n",
       "      <td>10.920</td>\n",
       "      <td>10.680</td>\n",
       "      <td>878.41</td>\n",
       "      <td>165.63</td>\n",
       "      <td>CA</td>\n",
       "      <td>West</td>\n",
       "      <td>Pacific</td>\n",
       "    </tr>\n",
       "  </tbody>\n",
       "</table>\n",
       "</div>"
      ],
      "text/plain": [
       "   accidents  speeding  alcohol  not_distracted  no_previous  ins_premium  \\\n",
       "0       18.8     7.332    5.640          18.048       15.040       784.55   \n",
       "1       18.1     7.421    4.525          16.290       17.014      1053.48   \n",
       "2       18.6     6.510    5.208          15.624       17.856       899.47   \n",
       "3       22.4     4.032    5.824          21.056       21.280       827.34   \n",
       "4       12.0     4.200    3.360          10.920       10.680       878.41   \n",
       "\n",
       "   ins_losses state region            division  \n",
       "0      145.08    AL  South  East South Central  \n",
       "1      133.93    AK   West             Pacific  \n",
       "2      110.35    AZ   West            Mountain  \n",
       "3      142.39    AR  South  West South Central  \n",
       "4      165.63    CA   West             Pacific  "
      ]
     },
     "execution_count": 290,
     "metadata": {},
     "output_type": "execute_result"
    }
   ],
   "source": [
    "crash = pd.read_csv(\"car_crashes2.csv\")\n",
    "print(crash.shape)\n",
    "crash.head()"
   ]
  },
  {
   "cell_type": "markdown",
   "metadata": {},
   "source": [
    "* accidents is the total number of crashes for each state\n",
    "* speeding is the average speeding in each state"
   ]
  },
  {
   "cell_type": "code",
   "execution_count": 291,
   "metadata": {},
   "outputs": [
    {
     "data": {
      "text/plain": [
       "array(['South', 'West', 'Northeast', 'Midwest', 'Territory'], dtype=object)"
      ]
     },
     "execution_count": 291,
     "metadata": {},
     "output_type": "execute_result"
    }
   ],
   "source": [
    "crash.region.unique()"
   ]
  },
  {
   "cell_type": "code",
   "execution_count": 292,
   "metadata": {},
   "outputs": [
    {
     "data": {
      "text/plain": [
       "array(['East South Central', 'Pacific', 'Mountain', 'West South Central',\n",
       "       'New England', 'South Atlantic', 'East North Central',\n",
       "       'West North Central', 'Middle Atlantic', 'Territory'], dtype=object)"
      ]
     },
     "execution_count": 292,
     "metadata": {},
     "output_type": "execute_result"
    }
   ],
   "source": [
    "crash.division.unique()"
   ]
  },
  {
   "cell_type": "markdown",
   "metadata": {},
   "source": [
    "## Question 1. Check if there are any null or NA"
   ]
  },
  {
   "cell_type": "code",
   "execution_count": 293,
   "metadata": {},
   "outputs": [
    {
     "name": "stdout",
     "output_type": "stream",
     "text": [
      "accidents         False\n",
      "speeding           True\n",
      "alcohol           False\n",
      "not_distracted    False\n",
      "no_previous       False\n",
      "ins_premium       False\n",
      "ins_losses        False\n",
      "state             False\n",
      "region            False\n",
      "division          False\n",
      "dtype: bool\n"
     ]
    }
   ],
   "source": [
    "print(crash.isnull().any())"
   ]
  },
  {
   "cell_type": "markdown",
   "metadata": {},
   "source": [
    "## Question 2. Remove any rows that has null or NA"
   ]
  },
  {
   "cell_type": "code",
   "execution_count": 294,
   "metadata": {},
   "outputs": [
    {
     "name": "stdout",
     "output_type": "stream",
     "text": [
      "accidents         False\n",
      "speeding          False\n",
      "alcohol           False\n",
      "not_distracted    False\n",
      "no_previous       False\n",
      "ins_premium       False\n",
      "ins_losses        False\n",
      "state             False\n",
      "region            False\n",
      "division          False\n",
      "dtype: bool\n"
     ]
    }
   ],
   "source": [
    "crash = crash.dropna()\n",
    "print(crash.isnull().any())"
   ]
  },
  {
   "cell_type": "markdown",
   "metadata": {},
   "source": [
    "## Question 3. Check if there is any outliers in the alcohol field using both scatter and boxplot"
   ]
  },
  {
   "cell_type": "code",
   "execution_count": 295,
   "metadata": {
    "scrolled": true
   },
   "outputs": [
    {
     "data": {
      "text/plain": [
       "<matplotlib.axes._subplots.AxesSubplot at 0x266c6cabb20>"
      ]
     },
     "execution_count": 295,
     "metadata": {},
     "output_type": "execute_result"
    },
    {
     "data": {
      "image/png": "[encoded data removed]",
      "text/plain": [
       "<Figure size 432x288 with 1 Axes>"
      ]
     },
     "metadata": {
      "needs_background": "light"
     },
     "output_type": "display_data"
    }
   ],
   "source": [
    "sns.scatterplot(x = 'speeding', y = 'alcohol', data=crash)"
   ]
  },
  {
   "cell_type": "code",
   "execution_count": 296,
   "metadata": {},
   "outputs": [
    {
     "data": {
      "text/plain": [
       "<matplotlib.axes._subplots.AxesSubplot at 0x266c50ab250>"
      ]
     },
     "execution_count": 296,
     "metadata": {},
     "output_type": "execute_result"
    },
    {
     "data": {
      "image/png": "[encoded data removed]",
      "text/plain": [
       "<Figure size 432x288 with 1 Axes>"
      ]
     },
     "metadata": {
      "needs_background": "light"
     },
     "output_type": "display_data"
    }
   ],
   "source": [
    "sns.boxplot(y=crash['alcohol'])"
   ]
  },
  {
   "cell_type": "markdown",
   "metadata": {},
   "source": [
    "## Question 4. Display and then Remove the one outlier row. You should now have 50 rows"
   ]
  },
  {
   "cell_type": "code",
   "execution_count": 297,
   "metadata": {},
   "outputs": [
    {
     "name": "stdout",
     "output_type": "stream",
     "text": [
      "Before removal:  (51, 10)\n",
      "After removal:  (50, 10)\n"
     ]
    }
   ],
   "source": [
    "print(\"Before removal: \", crash.shape)\n",
    "\n",
    "crash = crash[crash.alcohol < 20]\n",
    "\n",
    "print(\"After removal: \", crash.shape)"
   ]
  },
  {
   "cell_type": "code",
   "execution_count": 298,
   "metadata": {},
   "outputs": [
    {
     "data": {
      "text/plain": [
       "<matplotlib.axes._subplots.AxesSubplot at 0x266c6373850>"
      ]
     },
     "execution_count": 298,
     "metadata": {},
     "output_type": "execute_result"
    },
    {
     "data": {
      "image/png": "[encoded data removed]",
      "text/plain": [
       "<Figure size 432x288 with 1 Axes>"
      ]
     },
     "metadata": {
      "needs_background": "light"
     },
     "output_type": "display_data"
    }
   ],
   "source": [
    "sns.scatterplot(x = 'speeding', y = 'alcohol', data=crash)"
   ]
  },
  {
   "cell_type": "code",
   "execution_count": 299,
   "metadata": {},
   "outputs": [
    {
     "data": {
      "text/plain": [
       "<matplotlib.axes._subplots.AxesSubplot at 0x266c68fcd90>"
      ]
     },
     "execution_count": 299,
     "metadata": {},
     "output_type": "execute_result"
    },
    {
     "data": {
      "image/png": "[encoded data removed]",
      "text/plain": [
       "<Figure size 432x288 with 1 Axes>"
      ]
     },
     "metadata": {
      "needs_background": "light"
     },
     "output_type": "display_data"
    }
   ],
   "source": [
    "sns.boxplot(y=crash['alcohol'])"
   ]
  },
  {
   "cell_type": "markdown",
   "metadata": {},
   "source": [
    "## Question 5. Calculate the average speeding in usa and Northeast region using SQL"
   ]
  },
  {
   "cell_type": "code",
   "execution_count": 300,
   "metadata": {},
   "outputs": [
    {
     "name": "stdout",
     "output_type": "stream",
     "text": [
      "   Average Speed (USA)  Average Speed (Northeast)\n",
      "0              5.01944                    4.42475\n"
     ]
    }
   ],
   "source": [
    "crashs =  ps.sqldf(\"SELECT AVG(speeding) as 'Average Speed (USA)', AVG(CASE WHEN region = 'Northeast' THEN speeding END) AS 'Average Speed (Northeast)' FROM crash\")\n",
    "print(crashs.head(50))"
   ]
  },
  {
   "cell_type": "markdown",
   "metadata": {},
   "source": [
    "## Question 6. Calculate the average alcohol for each region using SQL"
   ]
  },
  {
   "cell_type": "code",
   "execution_count": 303,
   "metadata": {},
   "outputs": [
    {
     "name": "stdout",
     "output_type": "stream",
     "text": [
      "   Average Alcohol     region\n",
      "0         4.996917    Midwest\n",
      "1         3.980500  Northeast\n",
      "2         5.414647      South\n",
      "3         4.754077       West\n"
     ]
    }
   ],
   "source": [
    "crasha =  ps.sqldf(\"SELECT AVG(alcohol) as 'Average Alcohol', region FROM crash group by region\")\n",
    "print(crasha.head(50))"
   ]
  },
  {
   "cell_type": "markdown",
   "metadata": {},
   "source": [
    "## Question 7. Calculate the number of occurrences, mean, min, max of the speeding for each divison using SQL"
   ]
  },
  {
   "cell_type": "code",
   "execution_count": 304,
   "metadata": {},
   "outputs": [
    {
     "name": "stdout",
     "output_type": "stream",
     "text": [
      "             division  count      mean    min    max\n",
      "0  East North Central      5  4.106600  3.384  4.968\n",
      "1  East South Central      4  4.533250  2.640  7.332\n",
      "2     Middle Atlantic      2  5.446000  1.792  9.100\n",
      "3            Mountain      8  5.812250  3.496  8.346\n",
      "4         New England      6  4.084333  1.886  5.738\n",
      "5             Pacific      5  5.949400  4.200  9.450\n",
      "6      South Atlantic      9  5.030444  2.006  9.082\n",
      "7  West North Central      7  4.293429  1.937  6.923\n",
      "8  West South Central      4  6.333750  4.032  7.760\n"
     ]
    }
   ],
   "source": [
    "crashm =  ps.sqldf(\"SELECT division, count(division) as count, AVG(speeding) as mean, min(speeding) as min, max(speeding) as max FROM crash group by division\")\n",
    "print(crashm.head(50))"
   ]
  },
  {
   "cell_type": "markdown",
   "metadata": {},
   "source": [
    "## Question 8. Answer Question 7 but use Pandas functions"
   ]
  },
  {
   "cell_type": "code",
   "execution_count": 305,
   "metadata": {},
   "outputs": [
    {
     "name": "stdout",
     "output_type": "stream",
     "text": [
      "                    count      mean    min    max\n",
      "division                                         \n",
      "East North Central    5.0  4.106600  3.384  4.968\n",
      "East South Central    4.0  4.533250  2.640  7.332\n",
      "Middle Atlantic       2.0  5.446000  1.792  9.100\n",
      "Mountain              8.0  5.812250  3.496  8.346\n",
      "New England           6.0  4.084333  1.886  5.738\n",
      "Pacific               5.0  5.949400  4.200  9.450\n",
      "South Atlantic        9.0  5.030444  2.006  9.082\n",
      "West North Central    7.0  4.293429  1.937  6.923\n",
      "West South Central    4.0  6.333750  4.032  7.760\n"
     ]
    }
   ],
   "source": [
    "print(crash.groupby(\"division\")[\"speeding\"].describe()[['count','mean','min','max']])"
   ]
  },
  {
   "cell_type": "markdown",
   "metadata": {},
   "source": [
    "## Question 9. Calculate the Standard deviation, Skew and Kurtosis for the accidents, speeding, alcohol for each region"
   ]
  },
  {
   "cell_type": "code",
   "execution_count": 307,
   "metadata": {},
   "outputs": [
    {
     "name": "stdout",
     "output_type": "stream",
     "text": [
      "           (accidents, std)  (speeding, std)  (alcohol, std)  \\\n",
      "region                                                         \n",
      "Midwest            3.588988         1.537451        1.824432   \n",
      "Northeast          3.077453         2.327773        0.872950   \n",
      "South              4.537037         2.220711        1.773576   \n",
      "West               3.325118         1.803138        1.910356   \n",
      "\n",
      "           (accidents, skew)  (speeding, skew)  (alcohol, skew)  \\\n",
      "region                                                            \n",
      "Midwest             0.950845          0.121197         2.093467   \n",
      "Northeast           0.777587          1.051666         0.764250   \n",
      "South              -1.125839          0.172035         0.330988   \n",
      "West                0.064819          0.697441         1.159752   \n",
      "\n",
      "           (accidents, kurtosis)  (speeding, kurtosis)  (alcohol, kurtosis)  \n",
      "region                                                                       \n",
      "Midwest                 2.067092             -0.737061             5.597372  \n",
      "Northeast               0.726713              1.763520             0.890501  \n",
      "South                   1.860064             -1.327699             2.125568  \n",
      "West                   -1.048692             -0.465455             2.219220  \n"
     ]
    }
   ],
   "source": [
    "a = crash.groupby(\"region\")[[\"accidents\", \"speeding\", \"alcohol\"]].agg(['std'])\n",
    "b = crash.groupby(\"region\")[[\"accidents\", \"speeding\", \"alcohol\"]].agg(['skew'])\n",
    "c = crash.groupby(\"region\")[[\"accidents\", \"speeding\", \"alcohol\"]].apply(pd.DataFrame.kurtosis).add_prefix('(').add_suffix(', kurtosis)')\n",
    "print(pd.concat([a, b, c], axis = 1))"
   ]
  },
  {
   "cell_type": "markdown",
   "metadata": {},
   "source": [
    "## Question 10. Plot the histogram of accidents distribution for different region using 5 bins"
   ]
  },
  {
   "cell_type": "code",
   "execution_count": 267,
   "metadata": {},
   "outputs": [
    {
     "data": {
      "image/png": "[encoded data removed]",
      "text/plain": [
       "<Figure size 864x216 with 4 Axes>"
      ]
     },
     "metadata": {
      "needs_background": "light"
     },
     "output_type": "display_data"
    }
   ],
   "source": [
    "crashh = sns.FacetGrid(crash, col = 'region')\n",
    "crashh = crashh.map(plt.hist, 'accidents', bins=5)"
   ]
  },
  {
   "cell_type": "markdown",
   "metadata": {},
   "source": [
    "## Question 11. How would you describe the accidents distribution for different region based on the Skew and Kurotsis?\n",
    "(i.e. who has positive and negative skew and who has positive and negative Kurotsis)"
   ]
  },
  {
   "cell_type": "code",
   "execution_count": 308,
   "metadata": {},
   "outputs": [
    {
     "name": "stdout",
     "output_type": "stream",
     "text": [
      "The skew of the accident distribution in the Midwest (0.95), Northeast (0.78), and West (0.06) is positive (mean and median greater than mode).\n",
      "The skew of the accident distribution in the South (-1.13) is negative (mean and median less than mode).\n",
      "The kurtosis of the accident distribution in the Midwest (2.07), South (1.86), and Northeast (0.73) is positive (leptokurtic), has more outliers, and a higher peak.\n",
      "The kurtosis of the accident distribution in the West (-1.05) is negative (platykurtic), has less outliers, and a lower peak.\n"
     ]
    }
   ],
   "source": [
    "print(\"The skew of the accident distribution in the Midwest (0.95), Northeast (0.78), and West (0.06) is positive (mean and median greater than mode).\")\n",
    "print(\"The skew of the accident distribution in the South (-1.13) is negative (mean and median less than mode).\")\n",
    "print(\"The kurtosis of the accident distribution in the Midwest (2.07), South (1.86), and Northeast (0.73) is positive (leptokurtic), has more outliers, and a higher peak.\")\n",
    "print(\"The kurtosis of the accident distribution in the West (-1.05) is negative (platykurtic), has less outliers, and a lower peak.\")"
   ]
  },
  {
   "cell_type": "markdown",
   "metadata": {},
   "source": [
    "## Question 12. Calculate correlation of all the factors among themselves and determine which factors among speeding, alcohol and ins_premium will affect accidents the most?"
   ]
  },
  {
   "cell_type": "code",
   "execution_count": 309,
   "metadata": {},
   "outputs": [
    {
     "name": "stdout",
     "output_type": "stream",
     "text": [
      "                accidents  speeding   alcohol  not_distracted  no_previous  \\\n",
      "accidents        1.000000  0.608632  0.850706        0.826209     0.956009   \n",
      "speeding         0.608632  1.000000  0.667377        0.585337     0.568831   \n",
      "alcohol          0.850706  0.667377  1.000000        0.730435     0.780696   \n",
      "not_distracted   0.826209  0.585337  0.730435        1.000000     0.745712   \n",
      "no_previous      0.956009  0.568831  0.780696        0.745712     1.000000   \n",
      "ins_premium     -0.174157 -0.059254 -0.146921       -0.157416    -0.119067   \n",
      "ins_losses      -0.025507 -0.059624 -0.103849       -0.068733     0.007872   \n",
      "\n",
      "                ins_premium  ins_losses  \n",
      "accidents         -0.174157   -0.025507  \n",
      "speeding          -0.059254   -0.059624  \n",
      "alcohol           -0.146921   -0.103849  \n",
      "not_distracted    -0.157416   -0.068733  \n",
      "no_previous       -0.119067    0.007872  \n",
      "ins_premium        1.000000    0.625381  \n",
      "ins_losses         0.625381    1.000000  \n",
      "\n",
      "\n",
      "The highest correlation exists between accidents and alcohol at .85 among the three factors listed.\n"
     ]
    }
   ],
   "source": [
    "print(crash.corr())\n",
    "print(\"\\n\")\n",
    "print(\"The highest correlation exists between accidents and alcohol at .85 among the three factors listed.\")"
   ]
  },
  {
   "cell_type": "markdown",
   "metadata": {},
   "source": [
    "### Now Load a different dataset (MPG dataset number 3)"
   ]
  },
  {
   "cell_type": "code",
   "execution_count": 310,
   "metadata": {},
   "outputs": [
    {
     "name": "stdout",
     "output_type": "stream",
     "text": [
      "(405, 9)\n"
     ]
    },
    {
     "data": {
      "text/html": [
       "<div>\n",
       "<style scoped>\n",
       "    .dataframe tbody tr th:only-of-type {\n",
       "        vertical-align: middle;\n",
       "    }\n",
       "\n",
       "    .dataframe tbody tr th {\n",
       "        vertical-align: top;\n",
       "    }\n",
       "\n",
       "    .dataframe thead th {\n",
       "        text-align: right;\n",
       "    }\n",
       "</style>\n",
       "<table border=\"1\" class=\"dataframe\">\n",
       "  <thead>\n",
       "    <tr style=\"text-align: right;\">\n",
       "      <th></th>\n",
       "      <th>mpg</th>\n",
       "      <th>cylinders</th>\n",
       "      <th>displacement</th>\n",
       "      <th>horsepower</th>\n",
       "      <th>weight</th>\n",
       "      <th>acceleration</th>\n",
       "      <th>model_year</th>\n",
       "      <th>origin</th>\n",
       "      <th>name</th>\n",
       "    </tr>\n",
       "  </thead>\n",
       "  <tbody>\n",
       "    <tr>\n",
       "      <th>0</th>\n",
       "      <td>18.0</td>\n",
       "      <td>8</td>\n",
       "      <td>307.0</td>\n",
       "      <td>130.0</td>\n",
       "      <td>3504.0</td>\n",
       "      <td>12.0</td>\n",
       "      <td>70</td>\n",
       "      <td>usa</td>\n",
       "      <td>chevrolet chevelle malibu</td>\n",
       "    </tr>\n",
       "    <tr>\n",
       "      <th>1</th>\n",
       "      <td>15.0</td>\n",
       "      <td>8</td>\n",
       "      <td>350.0</td>\n",
       "      <td>165.0</td>\n",
       "      <td>3693.0</td>\n",
       "      <td>11.5</td>\n",
       "      <td>70</td>\n",
       "      <td>usa</td>\n",
       "      <td>buick skylark 320</td>\n",
       "    </tr>\n",
       "    <tr>\n",
       "      <th>2</th>\n",
       "      <td>18.0</td>\n",
       "      <td>8</td>\n",
       "      <td>318.0</td>\n",
       "      <td>150.0</td>\n",
       "      <td>3436.0</td>\n",
       "      <td>11.0</td>\n",
       "      <td>70</td>\n",
       "      <td>usa</td>\n",
       "      <td>plymouth satellite</td>\n",
       "    </tr>\n",
       "    <tr>\n",
       "      <th>3</th>\n",
       "      <td>16.0</td>\n",
       "      <td>8</td>\n",
       "      <td>304.0</td>\n",
       "      <td>150.0</td>\n",
       "      <td>3433.0</td>\n",
       "      <td>12.0</td>\n",
       "      <td>70</td>\n",
       "      <td>usa</td>\n",
       "      <td>amc rebel sst</td>\n",
       "    </tr>\n",
       "    <tr>\n",
       "      <th>4</th>\n",
       "      <td>17.0</td>\n",
       "      <td>8</td>\n",
       "      <td>302.0</td>\n",
       "      <td>140.0</td>\n",
       "      <td>3449.0</td>\n",
       "      <td>10.5</td>\n",
       "      <td>70</td>\n",
       "      <td>usa</td>\n",
       "      <td>ford torino</td>\n",
       "    </tr>\n",
       "  </tbody>\n",
       "</table>\n",
       "</div>"
      ],
      "text/plain": [
       "    mpg  cylinders  displacement  horsepower  weight  acceleration  \\\n",
       "0  18.0          8         307.0       130.0  3504.0          12.0   \n",
       "1  15.0          8         350.0       165.0  3693.0          11.5   \n",
       "2  18.0          8         318.0       150.0  3436.0          11.0   \n",
       "3  16.0          8         304.0       150.0  3433.0          12.0   \n",
       "4  17.0          8         302.0       140.0  3449.0          10.5   \n",
       "\n",
       "   model_year origin                       name  \n",
       "0          70    usa  chevrolet chevelle malibu  \n",
       "1          70    usa          buick skylark 320  \n",
       "2          70    usa         plymouth satellite  \n",
       "3          70    usa              amc rebel sst  \n",
       "4          70    usa                ford torino  "
      ]
     },
     "execution_count": 310,
     "metadata": {},
     "output_type": "execute_result"
    }
   ],
   "source": [
    "mpg = pd.read_csv(\"mpg3.csv\")\n",
    "print(mpg.shape)\n",
    "mpg.head()"
   ]
  },
  {
   "cell_type": "markdown",
   "metadata": {},
   "source": [
    "## Question 13: Check to see if there are any missing values. Fix the missing values by imputing value from the mean."
   ]
  },
  {
   "cell_type": "code",
   "execution_count": 311,
   "metadata": {},
   "outputs": [
    {
     "name": "stdout",
     "output_type": "stream",
     "text": [
      "mpg              True\n",
      "cylinders       False\n",
      "displacement    False\n",
      "horsepower       True\n",
      "weight           True\n",
      "acceleration    False\n",
      "model_year      False\n",
      "origin          False\n",
      "name            False\n",
      "dtype: bool\n",
      "\n",
      "\n",
      "Yes, there are missing values in mpg, horsepower, weight\n"
     ]
    }
   ],
   "source": [
    "print(mpg.isnull().any())\n",
    "print(\"\\n\")\n",
    "print(\"Yes, there are missing values in mpg, horsepower, weight\")"
   ]
  },
  {
   "cell_type": "markdown",
   "metadata": {},
   "source": [
    "### Type your code here to fix the missing values by imputing value from the mean"
   ]
  },
  {
   "cell_type": "code",
   "execution_count": 312,
   "metadata": {},
   "outputs": [
    {
     "name": "stdout",
     "output_type": "stream",
     "text": [
      "mpg             False\n",
      "cylinders       False\n",
      "displacement    False\n",
      "horsepower      False\n",
      "weight          False\n",
      "acceleration    False\n",
      "model_year      False\n",
      "origin          False\n",
      "name            False\n",
      "dtype: bool\n"
     ]
    }
   ],
   "source": [
    "mpg['mpg'] = mpg['mpg'].fillna(mpg['mpg'].mean())\n",
    "mpg['horsepower'] = mpg['horsepower'].fillna(mpg['horsepower'].mean())\n",
    "mpg['weight'] = mpg['weight'].fillna(mpg['weight'].mean())\n",
    "print(mpg.isnull().any())"
   ]
  }
 ],
 "metadata": {
  "kernelspec": {
   "display_name": "Python 3 (ipykernel)",
   "language": "python",
   "name": "python3"
  },
  "language_info": {
   "codemirror_mode": {
    "name": "ipython",
    "version": 3
   },
   "file_extension": ".py",
   "mimetype": "text/x-python",
   "name": "python",
   "nbconvert_exporter": "python",
   "pygments_lexer": "ipython3",
   "version": "3.9.12"
  }
 },
 "nbformat": 4,
 "nbformat_minor": 2
}
